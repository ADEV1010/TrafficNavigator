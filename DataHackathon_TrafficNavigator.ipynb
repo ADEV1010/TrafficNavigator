{
  "cells": [
    {
      "cell_type": "markdown",
      "metadata": {
        "id": "view-in-github",
        "colab_type": "text"
      },
      "source": [
        "<a href=\"https://colab.research.google.com/github/ADEV1010/TrafficNavigator/blob/main/DataHackathon_TrafficNavigator.ipynb\" target=\"_parent\"><img src=\"https://colab.research.google.com/assets/colab-badge.svg\" alt=\"Open In Colab\"/></a>"
      ]
    },
    {
      "cell_type": "code",
      "execution_count": 1,
      "metadata": {
        "colab": {
          "base_uri": "https://localhost:8080/"
        },
        "id": "XCUmdtu4z_CR",
        "outputId": "53b4a2e3-8f55-4457-d375-e7bc6ef9718f"
      },
      "outputs": [
        {
          "output_type": "stream",
          "name": "stdout",
          "text": [
            "Requirement already satisfied: tqdm in /usr/local/lib/python3.10/dist-packages (4.66.5)\n"
          ]
        }
      ],
      "source": [
        "!pip install tqdm"
      ]
    },
    {
      "cell_type": "code",
      "execution_count": 2,
      "metadata": {
        "colab": {
          "base_uri": "https://localhost:8080/"
        },
        "id": "ndT2dRsp1XcS",
        "outputId": "b21bb90f-ea56-477b-8a69-47748ad78c5b"
      },
      "outputs": [
        {
          "output_type": "stream",
          "name": "stdout",
          "text": [
            "Requirement already satisfied: pytz in /usr/local/lib/python3.10/dist-packages (2024.1)\n",
            "Collecting requests-cache\n",
            "  Downloading requests_cache-1.2.1-py3-none-any.whl.metadata (9.9 kB)\n",
            "Requirement already satisfied: attrs>=21.2 in /usr/local/lib/python3.10/dist-packages (from requests-cache) (24.2.0)\n",
            "Collecting cattrs>=22.2 (from requests-cache)\n",
            "  Downloading cattrs-24.1.0-py3-none-any.whl.metadata (8.4 kB)\n",
            "Requirement already satisfied: platformdirs>=2.5 in /usr/local/lib/python3.10/dist-packages (from requests-cache) (4.2.2)\n",
            "Requirement already satisfied: requests>=2.22 in /usr/local/lib/python3.10/dist-packages (from requests-cache) (2.32.3)\n",
            "Collecting url-normalize>=1.4 (from requests-cache)\n",
            "  Downloading url_normalize-1.4.3-py2.py3-none-any.whl.metadata (3.1 kB)\n",
            "Requirement already satisfied: urllib3>=1.25.5 in /usr/local/lib/python3.10/dist-packages (from requests-cache) (2.0.7)\n",
            "Requirement already satisfied: exceptiongroup>=1.1.1 in /usr/local/lib/python3.10/dist-packages (from cattrs>=22.2->requests-cache) (1.2.2)\n",
            "Requirement already satisfied: typing-extensions!=4.6.3,>=4.1.0 in /usr/local/lib/python3.10/dist-packages (from cattrs>=22.2->requests-cache) (4.12.2)\n",
            "Requirement already satisfied: charset-normalizer<4,>=2 in /usr/local/lib/python3.10/dist-packages (from requests>=2.22->requests-cache) (3.3.2)\n",
            "Requirement already satisfied: idna<4,>=2.5 in /usr/local/lib/python3.10/dist-packages (from requests>=2.22->requests-cache) (3.8)\n",
            "Requirement already satisfied: certifi>=2017.4.17 in /usr/local/lib/python3.10/dist-packages (from requests>=2.22->requests-cache) (2024.7.4)\n",
            "Requirement already satisfied: six in /usr/local/lib/python3.10/dist-packages (from url-normalize>=1.4->requests-cache) (1.16.0)\n",
            "Downloading requests_cache-1.2.1-py3-none-any.whl (61 kB)\n",
            "\u001b[2K   \u001b[90m━━━━━━━━━━━━━━━━━━━━━━━━━━━━━━━━━━━━━━━━\u001b[0m \u001b[32m61.4/61.4 kB\u001b[0m \u001b[31m2.1 MB/s\u001b[0m eta \u001b[36m0:00:00\u001b[0m\n",
            "\u001b[?25hDownloading cattrs-24.1.0-py3-none-any.whl (66 kB)\n",
            "\u001b[2K   \u001b[90m━━━━━━━━━━━━━━━━━━━━━━━━━━━━━━━━━━━━━━━━\u001b[0m \u001b[32m66.2/66.2 kB\u001b[0m \u001b[31m4.9 MB/s\u001b[0m eta \u001b[36m0:00:00\u001b[0m\n",
            "\u001b[?25hDownloading url_normalize-1.4.3-py2.py3-none-any.whl (6.8 kB)\n",
            "Installing collected packages: url-normalize, cattrs, requests-cache\n",
            "Successfully installed cattrs-24.1.0 requests-cache-1.2.1 url-normalize-1.4.3\n"
          ]
        }
      ],
      "source": [
        "!pip install pytz requests-cache"
      ]
    },
    {
      "cell_type": "code",
      "execution_count": 3,
      "metadata": {
        "id": "rVl-HNjAdCQp"
      },
      "outputs": [],
      "source": [
        "import asyncio\n",
        "import aiohttp\n",
        "import pandas as pd\n",
        "import numpy as np\n",
        "from datetime import datetime, timedelta\n",
        "import time\n",
        "import json\n",
        "from aiohttp import ClientSession, TCPConnector\n",
        "from asyncio import Semaphore\n",
        "import nest_asyncio\n",
        "from tqdm import tqdm\n",
        "import pytz\n",
        "import requests\n",
        "import requests_cache"
      ]
    },
    {
      "cell_type": "code",
      "execution_count": 4,
      "metadata": {
        "id": "POPf6Lt6dXNu"
      },
      "outputs": [],
      "source": [
        "# Apply nest_asyncio to allow nested event loops\n",
        "nest_asyncio.apply()\n",
        "\n",
        "# Set up caching for weather API requests\n",
        "requests_cache.install_cache('weather_cache', expire_after=3600)"
      ]
    },
    {
      "cell_type": "code",
      "execution_count": 5,
      "metadata": {
        "id": "73qftZqOdaFG"
      },
      "outputs": [],
      "source": [
        "API_KEY = 'SkudnJXWgFsH0cP0VEWQNRtxD5oBcASd'\n",
        "WEATHER_API_KEY = '28edebb4a2f283c1805f913584ad2905'\n",
        "BASE_URL = \"https://api.tomtom.com/traffic/services/4/flowSegmentData/absolute/10/json\"\n",
        "WEATHER_URL = \"http://api.openweathermap.org/data/2.5/weather\"\n",
        "\n",
        "# Define a list of coordinates covering the area of interest\n",
        "COORDINATES = [\n",
        "    (40.7128, -74.0060),  # New York City\n",
        "    (40.7831, -73.9712),  # Upper Manhattan\n",
        "    (40.6782, -73.9442),  # Brooklyn\n",
        "    (40.7282, -73.7949),  # Queens\n",
        "    (40.8448, -73.8648),  # Bronx\n",
        "    (40.5795, -74.1502),  # Staten Island\n",
        "]\n",
        "\n",
        "# Semaphore to limit concurrent requests\n",
        "MAX_CONCURRENT_REQUESTS = 20\n",
        "semaphore = Semaphore(MAX_CONCURRENT_REQUESTS)\n",
        "\n",
        "# Time zone for New York City\n",
        "NYC_TZ = pytz.timezone('America/New_York')"
      ]
    },
    {
      "cell_type": "code",
      "execution_count": 6,
      "metadata": {
        "id": "KAYiWxTwePrR"
      },
      "outputs": [],
      "source": [
        "async def fetch_traffic_data(session, latitude, longitude):\n",
        "    params = {\n",
        "        'key': API_KEY,\n",
        "        'point': f\"{latitude},{longitude}\"\n",
        "    }\n",
        "    async with semaphore:\n",
        "        try:\n",
        "            async with session.get(BASE_URL, params=params, timeout=10) as response:\n",
        "                if response.status == 200:\n",
        "                    return await response.json()\n",
        "                else:\n",
        "                    print(f\"Error: {response.status} for coordinates {latitude}, {longitude}\")\n",
        "                    return None\n",
        "        except asyncio.TimeoutError:\n",
        "            print(f\"Timeout for coordinates {latitude}, {longitude}\")\n",
        "            return None"
      ]
    },
    {
      "cell_type": "code",
      "execution_count": 7,
      "metadata": {
        "id": "L18Bj9TddhKM"
      },
      "outputs": [],
      "source": [
        "def get_weather(lat, lon):\n",
        "    params = {\n",
        "        'lat': lat,\n",
        "        'lon': lon,\n",
        "        'appid': WEATHER_API_KEY,\n",
        "        'units': 'metric'\n",
        "    }\n",
        "    try:\n",
        "        response = requests.get(WEATHER_URL, params=params)\n",
        "        if response.status_code == 200:\n",
        "            data = response.json()\n",
        "            return {\n",
        "                'temperature': data['main']['temp'],\n",
        "                'humidity': data['main']['humidity'],\n",
        "                'weather_condition': data['weather'][0]['main']\n",
        "            }\n",
        "        else:\n",
        "            print(f\"Error fetching weather data: {response.status_code}\")\n",
        "            return None\n",
        "    except Exception as e:\n",
        "        print(f\"Exception while fetching weather data: {e}\")\n",
        "        return None"
      ]
    },
    {
      "cell_type": "code",
      "execution_count": 8,
      "metadata": {
        "id": "S5nocqktdizf"
      },
      "outputs": [],
      "source": [
        "def process_traffic_data(data, latitude, longitude):\n",
        "    if not data:\n",
        "        return None\n",
        "\n",
        "    flow_data = data['flowSegmentData']\n",
        "    current_time = datetime.now(NYC_TZ)\n",
        "    weather_data = get_weather(latitude, longitude)\n",
        "\n",
        "    processed_data = {\n",
        "        'timestamp': current_time.isoformat(),\n",
        "        'latitude': latitude,\n",
        "        'longitude': longitude,\n",
        "        'current_speed': flow_data['currentSpeed'],\n",
        "        'free_flow_speed': flow_data['freeFlowSpeed'],\n",
        "        'confidence': flow_data['confidence'],\n",
        "        'road_closure': flow_data['roadClosure'],\n",
        "        'hour': current_time.hour,\n",
        "        'day_of_week': current_time.weekday(),\n",
        "        'is_weekend': 1 if current_time.weekday() >= 5 else 0,\n",
        "        'is_rush_hour': 1 if current_time.hour in [7, 8, 9, 16, 17, 18] else 0,\n",
        "        'temperature': None,\n",
        "        'humidity': None,\n",
        "        'weather_condition': None\n",
        "    }\n",
        "\n",
        "    if weather_data:\n",
        "        processed_data.update(weather_data)\n",
        "\n",
        "    return processed_data"
      ]
    },
    {
      "cell_type": "code",
      "execution_count": 9,
      "metadata": {
        "id": "7NmdEu0rdl2A"
      },
      "outputs": [],
      "source": [
        "async def fetch_and_process(session, coords):\n",
        "    lat, lon = coords\n",
        "    raw_data = await fetch_traffic_data(session, lat, lon)\n",
        "    return process_traffic_data(raw_data, lat, lon)"
      ]
    },
    {
      "cell_type": "code",
      "execution_count": 10,
      "metadata": {
        "id": "APW3EpwP1YUs"
      },
      "outputs": [],
      "source": [
        "async def main_async():\n",
        "    connector = TCPConnector(limit=MAX_CONCURRENT_REQUESTS)\n",
        "    async with ClientSession(connector=connector) as session:\n",
        "        tasks = [fetch_and_process(session, coords) for coords in COORDINATES]\n",
        "        results = []\n",
        "        for f in tqdm(asyncio.as_completed(tasks), total=len(tasks), desc=\"Fetching data\"):\n",
        "            result = await f\n",
        "            if result:\n",
        "                results.append(result)\n",
        "\n",
        "    if not results:\n",
        "        print(\"No data was collected. Exiting.\")\n",
        "        return []\n",
        "\n",
        "    # Convert results to DataFrame for easier processing\n",
        "    df = pd.DataFrame(results)\n",
        "\n",
        "    # Calculate derived features\n",
        "    df['speed_ratio'] = df['current_speed'] / df['free_flow_speed']\n",
        "    df['congestion_level'] = pd.cut(df['speed_ratio'],\n",
        "                                    bins=[0, 0.5, 0.75, 1, float('inf')],\n",
        "                                    labels=['Heavy', 'Moderate', 'Light', 'Free Flow'])\n",
        "\n",
        "    # Calculate historical averages (assuming we have previous data)\n",
        "    historical_data = load_historical_data()\n",
        "    if historical_data is not None:\n",
        "        df = pd.concat([historical_data, df])\n",
        "\n",
        "    df['avg_speed_hour'] = df.groupby(['hour'])['current_speed'].transform('mean')\n",
        "    df['avg_speed_day'] = df.groupby(['day_of_week'])['current_speed'].transform('mean')\n",
        "    df['avg_speed_location'] = df.groupby(['latitude', 'longitude'])['current_speed'].transform('mean')\n",
        "\n",
        "    # Save the updated DataFrame\n",
        "    df.to_csv('traffic_data.csv', index=False)\n",
        "\n",
        "    print(f\"Processed data for {len(results)} locations.\")\n",
        "    return df.tail(len(results)).to_dict('records')"
      ]
    },
    {
      "cell_type": "code",
      "execution_count": 11,
      "metadata": {
        "id": "_og5qXHKdVbo"
      },
      "outputs": [],
      "source": [
        "def load_historical_data():\n",
        "    try:\n",
        "        return pd.read_csv('traffic_data.csv')\n",
        "    except FileNotFoundError:\n",
        "        print(\"No historical data found. Starting fresh.\")\n",
        "        return None"
      ]
    },
    {
      "cell_type": "code",
      "execution_count": 12,
      "metadata": {
        "id": "-XgV3444d0x7"
      },
      "outputs": [],
      "source": [
        "def run_once():\n",
        "    \"\"\"Run the data collection once and return the results.\"\"\"\n",
        "    loop = asyncio.get_event_loop()\n",
        "    return loop.run_until_complete(main_async())"
      ]
    },
    {
      "cell_type": "code",
      "execution_count": 13,
      "metadata": {
        "id": "GmTTTGLh3cHz"
      },
      "outputs": [],
      "source": [
        "def run_continuously(num_iterations=5, interval=60):\n",
        "    \"\"\"Run the data collection a specified number of times with a given interval.\"\"\"\n",
        "    for i in range(num_iterations):\n",
        "        start_time = time.time()\n",
        "\n",
        "        results = run_once()\n",
        "\n",
        "        print(f\"\\nSample of collected data (first entry):\")\n",
        "        if results:\n",
        "            print(json.dumps(results[0], indent=2))\n",
        "        else:\n",
        "            print(\"No data collected in this iteration.\")\n",
        "\n",
        "        elapsed_time = time.time() - start_time\n",
        "        sleep_time = max(0, interval - elapsed_time)\n",
        "\n",
        "        print(f\"\\nIteration {i+1}/{num_iterations}: Processed data in {elapsed_time:.2f} seconds. Sleeping for {sleep_time:.2f} seconds.\")\n",
        "\n",
        "        if i < num_iterations - 1:  # Don't sleep after the last iteration\n",
        "            time.sleep(sleep_time)\n",
        "\n",
        "    print(\"\\nData collection completed. Checking 'traffic_data.csv'...\")\n",
        "    try:\n",
        "        df = pd.read_csv('traffic_data.csv')\n",
        "        print(f\"Successfully read 'traffic_data.csv'. It contains {len(df)} rows.\")\n",
        "        print(\"\\nFirst few rows of the data:\")\n",
        "        print(df.head().to_string())\n",
        "    except FileNotFoundError:\n",
        "        print(\"'traffic_data.csv' not found. Please check if the file was created.\")\n",
        "    except Exception as e:\n",
        "        print(f\"An error occurred while reading 'traffic_data.csv': {e}\")"
      ]
    },
    {
      "cell_type": "code",
      "execution_count": 14,
      "metadata": {
        "id": "4j1FbRhk1oZZ"
      },
      "outputs": [],
      "source": [
        "#run_continuously(num_iterations=3, interval=30)"
      ]
    },
    {
      "cell_type": "code",
      "execution_count": 15,
      "metadata": {
        "colab": {
          "base_uri": "https://localhost:8080/"
        },
        "id": "p040684s1vy2",
        "outputId": "e5c38ca1-afbe-4bcb-e2e8-925b493f9f2d"
      },
      "outputs": [
        {
          "output_type": "stream",
          "name": "stderr",
          "text": [
            "Fetching data: 100%|██████████| 6/6 [00:01<00:00,  3.71it/s]"
          ]
        },
        {
          "output_type": "stream",
          "name": "stdout",
          "text": [
            "No historical data found. Starting fresh.\n",
            "Processed data for 6 locations.\n",
            "[{'timestamp': '2024-09-03T15:38:32.556914-04:00', 'latitude': 40.6782, 'longitude': -73.9442, 'current_speed': 17, 'free_flow_speed': 29, 'confidence': 1, 'road_closure': False, 'hour': 15, 'day_of_week': 1, 'is_weekend': 0, 'is_rush_hour': 0, 'temperature': 22.97, 'humidity': 32, 'weather_condition': 'Clear', 'speed_ratio': 0.5862068965517241, 'congestion_level': 'Moderate', 'avg_speed_hour': 19.0, 'avg_speed_day': 19.0, 'avg_speed_location': 17.0}, {'timestamp': '2024-09-03T15:38:32.692019-04:00', 'latitude': 40.7282, 'longitude': -73.7949, 'current_speed': 18, 'free_flow_speed': 24, 'confidence': 1, 'road_closure': False, 'hour': 15, 'day_of_week': 1, 'is_weekend': 0, 'is_rush_hour': 0, 'temperature': 22.89, 'humidity': 34, 'weather_condition': 'Clouds', 'speed_ratio': 0.75, 'congestion_level': 'Moderate', 'avg_speed_hour': 19.0, 'avg_speed_day': 19.0, 'avg_speed_location': 18.0}, {'timestamp': '2024-09-03T15:38:32.812089-04:00', 'latitude': 40.8448, 'longitude': -73.8648, 'current_speed': 15, 'free_flow_speed': 20, 'confidence': 1, 'road_closure': False, 'hour': 15, 'day_of_week': 1, 'is_weekend': 0, 'is_rush_hour': 0, 'temperature': 22.76, 'humidity': 34, 'weather_condition': 'Clouds', 'speed_ratio': 0.75, 'congestion_level': 'Moderate', 'avg_speed_hour': 19.0, 'avg_speed_day': 19.0, 'avg_speed_location': 15.0}, {'timestamp': '2024-09-03T15:38:32.937537-04:00', 'latitude': 40.7831, 'longitude': -73.9712, 'current_speed': 16, 'free_flow_speed': 16, 'confidence': 1, 'road_closure': False, 'hour': 15, 'day_of_week': 1, 'is_weekend': 0, 'is_rush_hour': 0, 'temperature': 22.72, 'humidity': 33, 'weather_condition': 'Clear', 'speed_ratio': 1.0, 'congestion_level': 'Light', 'avg_speed_hour': 19.0, 'avg_speed_day': 19.0, 'avg_speed_location': 16.0}, {'timestamp': '2024-09-03T15:38:33.069569-04:00', 'latitude': 40.7128, 'longitude': -74.006, 'current_speed': 21, 'free_flow_speed': 21, 'confidence': 1, 'road_closure': False, 'hour': 15, 'day_of_week': 1, 'is_weekend': 0, 'is_rush_hour': 0, 'temperature': 23.04, 'humidity': 32, 'weather_condition': 'Clear', 'speed_ratio': 1.0, 'congestion_level': 'Light', 'avg_speed_hour': 19.0, 'avg_speed_day': 19.0, 'avg_speed_location': 21.0}, {'timestamp': '2024-09-03T15:38:33.196575-04:00', 'latitude': 40.5795, 'longitude': -74.1502, 'current_speed': 27, 'free_flow_speed': 33, 'confidence': 1, 'road_closure': False, 'hour': 15, 'day_of_week': 1, 'is_weekend': 0, 'is_rush_hour': 0, 'temperature': 23.1, 'humidity': 33, 'weather_condition': 'Clouds', 'speed_ratio': 0.8181818181818182, 'congestion_level': 'Light', 'avg_speed_hour': 19.0, 'avg_speed_day': 19.0, 'avg_speed_location': 27.0}]\n"
          ]
        },
        {
          "output_type": "stream",
          "name": "stderr",
          "text": [
            "\n"
          ]
        }
      ],
      "source": [
        "results = run_once()\n",
        "print(results)"
      ]
    },
    {
      "cell_type": "code",
      "execution_count": 16,
      "metadata": {
        "id": "IkxQxYWNejLP"
      },
      "outputs": [],
      "source": [
        "def process_traffic_data(data, latitude, longitude):\n",
        "    if not data:\n",
        "        return None\n",
        "\n",
        "    flow_data = data['flowSegmentData']\n",
        "    current_time = datetime.now(NYC_TZ)\n",
        "    weather_data = get_weather(latitude, longitude)\n",
        "\n",
        "    processed_data = {\n",
        "        'timestamp': current_time.isoformat(),\n",
        "        'latitude': latitude,\n",
        "        'longitude': longitude,\n",
        "        'current_speed': flow_data['currentSpeed'],\n",
        "        'free_flow_speed': flow_data['freeFlowSpeed'],\n",
        "        'confidence': flow_data['confidence'],\n",
        "        'road_closure': flow_data['roadClosure'],\n",
        "        'hour': current_time.hour,\n",
        "        'day_of_week': current_time.weekday(),\n",
        "        'is_weekend': 1 if current_time.weekday() >= 5 else 0,\n",
        "        'is_rush_hour': 1 if current_time.hour in [7, 8, 9, 16, 17, 18] else 0,\n",
        "        'time_of_day': get_time_of_day(current_time.hour),\n",
        "        'temperature': None,\n",
        "        'humidity': None,\n",
        "        'weather_condition': None\n",
        "    }\n",
        "\n",
        "    if weather_data:\n",
        "        processed_data.update(weather_data)\n",
        "\n",
        "    return processed_data"
      ]
    },
    {
      "cell_type": "code",
      "execution_count": 17,
      "metadata": {
        "id": "HZvgRadkeezr"
      },
      "outputs": [],
      "source": [
        "def get_time_of_day(hour):\n",
        "    if 5 <= hour < 12:\n",
        "        return 'morning'\n",
        "    elif 12 <= hour < 17:\n",
        "        return 'afternoon'\n",
        "    elif 17 <= hour < 21:\n",
        "        return 'evening'\n",
        "    else:\n",
        "        return 'night'"
      ]
    },
    {
      "cell_type": "code",
      "execution_count": 18,
      "metadata": {
        "id": "04DEZN2UBxbO"
      },
      "outputs": [],
      "source": [
        "async def main_async():\n",
        "    connector = TCPConnector(limit=MAX_CONCURRENT_REQUESTS)\n",
        "    async with ClientSession(connector=connector) as session:\n",
        "        tasks = [fetch_and_process(session, coords) for coords in COORDINATES]\n",
        "        results = []\n",
        "        for f in tqdm(asyncio.as_completed(tasks), total=len(tasks), desc=\"Fetching data\"):\n",
        "            result = await f\n",
        "            if result:\n",
        "                results.append(result)\n",
        "\n",
        "    if not results:\n",
        "        print(\"No data was collected. Exiting.\")\n",
        "        return []\n",
        "\n",
        "    # Convert results to DataFrame for easier processing\n",
        "    df = pd.DataFrame(results)\n",
        "\n",
        "    # Calculate derived features\n",
        "    df['speed_ratio'] = df['current_speed'] / df['free_flow_speed']\n",
        "    df['congestion_level'] = pd.cut(df['speed_ratio'],\n",
        "                                    bins=[0, 0.5, 0.75, 1, float('inf')],\n",
        "                                    labels=['Heavy', 'Moderate', 'Light', 'Free Flow'])\n",
        "\n",
        "    # Load historical data\n",
        "    historical_data = load_historical_data()\n",
        "    if historical_data is not None:\n",
        "        df = pd.concat([historical_data, df])\n",
        "\n",
        "    # Calculate time-based averages\n",
        "    df['avg_speed_hour'] = df.groupby(['hour'])['current_speed'].transform('mean')\n",
        "    df['avg_speed_day'] = df.groupby(['day_of_week'])['current_speed'].transform('mean')\n",
        "    df['avg_speed_time_of_day'] = df.groupby(['time_of_day'])['current_speed'].transform('mean')\n",
        "\n",
        "    # Calculate location-based averages\n",
        "    df['avg_speed_location'] = df.groupby(['latitude', 'longitude'])['current_speed'].transform('mean')\n",
        "\n",
        "    # Calculate weather-based averages (if weather data is available)\n",
        "    if 'weather_condition' in df.columns and df['weather_condition'].notna().any():\n",
        "        df['avg_speed_weather'] = df.groupby(['weather_condition'])['current_speed'].transform('mean')\n",
        "\n",
        "    # Calculate historical congestion patterns\n",
        "    df['historical_congestion'] = df.groupby(['latitude', 'longitude', 'day_of_week', 'hour'])['congestion_level'].transform(lambda x: x.mode().iloc[0] if not x.empty else None)\n",
        "\n",
        "    # Calculate speed variance\n",
        "    df['speed_variance'] = df.groupby(['latitude', 'longitude'])['current_speed'].transform('var')\n",
        "\n",
        "    # Calculate peak hour flag\n",
        "    df['is_peak_hour'] = ((df['hour'] >= 7) & (df['hour'] <= 9)) | ((df['hour'] >= 16) & (df['hour'] <= 18))\n",
        "\n",
        "    # Calculate speed difference from average\n",
        "    df['speed_diff_from_avg'] = df['current_speed'] - df['avg_speed_location']\n",
        "\n",
        "    # Save the updated DataFrame\n",
        "    df.to_csv('traffic_data.csv', index=False)\n",
        "\n",
        "    print(f\"Processed data for {len(results)} locations.\")\n",
        "    return df.tail(len(results)).to_dict('records')\n"
      ]
    },
    {
      "cell_type": "code",
      "execution_count": 19,
      "metadata": {
        "id": "1wA2d9sUEElS"
      },
      "outputs": [],
      "source": [
        "from sklearn.model_selection import train_test_split\n",
        "from sklearn.ensemble import RandomForestRegressor, RandomForestClassifier\n",
        "from sklearn.metrics import mean_squared_error, accuracy_score\n",
        "from sklearn.preprocessing import LabelEncoder"
      ]
    },
    {
      "cell_type": "code",
      "execution_count": 20,
      "metadata": {
        "id": "USHjluPDfOCx"
      },
      "outputs": [],
      "source": [
        "import asyncio\n",
        "import aiohttp\n",
        "import pandas as pd\n",
        "import numpy as np\n",
        "from datetime import datetime, timedelta\n",
        "import time\n",
        "import json\n",
        "from aiohttp import ClientSession, TCPConnector\n",
        "from asyncio import Semaphore\n",
        "import nest_asyncio\n",
        "from tqdm import tqdm\n",
        "import pytz\n",
        "import requests\n",
        "import requests_cache\n",
        "from sklearn.model_selection import train_test_split\n",
        "from sklearn.ensemble import RandomForestRegressor, RandomForestClassifier\n",
        "from sklearn.metrics import mean_squared_error, accuracy_score\n",
        "from sklearn.preprocessing import LabelEncoder"
      ]
    },
    {
      "cell_type": "code",
      "execution_count": 21,
      "metadata": {
        "id": "Y7wsSh8qfSUh"
      },
      "outputs": [],
      "source": [
        "def train_models(X, y_speed, y_congestion):\n",
        "    # Split the data\n",
        "    X_train, X_test, y_speed_train, y_speed_test, y_congestion_train, y_congestion_test = train_test_split(\n",
        "        X, y_speed, y_congestion, test_size=0.2, random_state=42)\n",
        "\n",
        "    # Train Random Forest for speed prediction\n",
        "    rf_speed = RandomForestRegressor(n_estimators=100, random_state=42)\n",
        "    rf_speed.fit(X_train, y_speed_train)\n",
        "    speed_pred = rf_speed.predict(X_test)\n",
        "    speed_mse = mean_squared_error(y_speed_test, speed_pred)\n",
        "    speed_rmse = np.sqrt(speed_mse)\n",
        "\n",
        "    # Train Random Forest for congestion prediction\n",
        "    rf_congestion = RandomForestClassifier(n_estimators=100, random_state=42)\n",
        "    rf_congestion.fit(X_train, y_congestion_train)\n",
        "    congestion_pred = rf_congestion.predict(X_test)\n",
        "    congestion_accuracy = accuracy_score(y_congestion_test, congestion_pred)\n",
        "\n",
        "    print(f\"Speed Prediction RMSE: {speed_rmse:.2f}\")\n",
        "    print(f\"Congestion Prediction Accuracy: {congestion_accuracy:.2f}\")\n",
        "\n",
        "    return rf_speed, rf_congestion"
      ]
    },
    {
      "cell_type": "code",
      "execution_count": 22,
      "metadata": {
        "id": "8MD1-im_faqu"
      },
      "outputs": [],
      "source": [
        "\n",
        "def predict_traffic(models, X):\n",
        "    rf_speed, rf_congestion = models\n",
        "    speed_pred = rf_speed.predict(X)\n",
        "    congestion_pred = rf_congestion.predict(X)\n",
        "    return speed_pred, congestion_pred"
      ]
    },
    {
      "cell_type": "code",
      "execution_count": 23,
      "metadata": {
        "id": "2D7yTWFnF0y5"
      },
      "outputs": [],
      "source": [
        "async def fetch_new_data():\n",
        "    connector = TCPConnector(limit=MAX_CONCURRENT_REQUESTS)\n",
        "    async with ClientSession(connector=connector) as session:\n",
        "        tasks = [fetch_and_process(session, coords) for coords in COORDINATES]\n",
        "        results = []\n",
        "        for f in asyncio.as_completed(tasks):\n",
        "            result = await f\n",
        "            if result:\n",
        "                results.append(result)\n",
        "    return results\n"
      ]
    },
    {
      "cell_type": "code",
      "execution_count": 24,
      "metadata": {
        "id": "YnVYD_0nF1vy"
      },
      "outputs": [],
      "source": [
        "def make_predictions(models, new_data, scaler, le):\n",
        "    rf_speed, rf_congestion = models\n",
        "    df = pd.DataFrame(new_data)\n",
        "\n",
        "    # Prepare data for prediction\n",
        "    X, _, _, _ = prepare_data_for_model(df)\n",
        "    X_scaled = scaler.transform(X)\n",
        "\n",
        "    # Make predictions\n",
        "    speed_pred = rf_speed.predict(X_scaled)\n",
        "    congestion_pred = rf_congestion.predict(X_scaled)\n",
        "\n",
        "    # Add predictions to the DataFrame\n",
        "    df['predicted_speed'] = speed_pred\n",
        "    df['predicted_congestion'] = le.inverse_transform(congestion_pred)\n",
        "\n",
        "    return df"
      ]
    },
    {
      "cell_type": "code",
      "execution_count": 25,
      "metadata": {
        "id": "NtxPXUFMGgaj"
      },
      "outputs": [],
      "source": [
        "from sklearn.preprocessing import StandardScaler"
      ]
    },
    {
      "cell_type": "code",
      "execution_count": 26,
      "metadata": {
        "id": "JSRZFy1cHUMj"
      },
      "outputs": [],
      "source": [
        "def prepare_data_for_model(df):\n",
        "    # Create congestion_level if it doesn't exist\n",
        "    if 'congestion_level' not in df.columns:\n",
        "        df['speed_ratio'] = df['current_speed'] / df['free_flow_speed']\n",
        "        df['congestion_level'] = pd.cut(df['speed_ratio'],\n",
        "                                        bins=[0, 0.5, 0.75, 1, float('inf')],\n",
        "                                        labels=['Heavy', 'Moderate', 'Light', 'Free Flow'])\n",
        "\n",
        "    # Select features for the model\n",
        "    features = ['hour', 'day_of_week', 'is_weekend', 'is_rush_hour', 'is_peak_hour',\n",
        "                'temperature', 'humidity', 'speed_ratio', 'avg_speed_hour',\n",
        "                'avg_speed_day', 'avg_speed_location', 'avg_speed_time_of_day',\n",
        "                'speed_variance', 'speed_diff_from_avg']\n",
        "\n",
        "    # Ensure all selected features are present\n",
        "    features = [f for f in features if f in df.columns]\n",
        "\n",
        "    X = df[features]\n",
        "    y_speed = df['current_speed']\n",
        "    y_congestion = df['congestion_level']\n",
        "\n",
        "    # Encode categorical variables\n",
        "    le = LabelEncoder()\n",
        "    y_congestion = le.fit_transform(y_congestion)\n",
        "\n",
        "    return X, y_speed, y_congestion, le"
      ]
    },
    {
      "cell_type": "code",
      "execution_count": 27,
      "metadata": {
        "colab": {
          "base_uri": "https://localhost:8080/"
        },
        "id": "tOUQsbdVNl7F",
        "outputId": "7817034c-f53c-440a-e3c9-c74c87e8a1a6"
      },
      "outputs": [
        {
          "output_type": "stream",
          "name": "stdout",
          "text": [
            "Requirement already satisfied: networkx in /usr/local/lib/python3.10/dist-packages (3.3)\n"
          ]
        }
      ],
      "source": [
        "!pip install networkx"
      ]
    },
    {
      "cell_type": "code",
      "execution_count": 28,
      "metadata": {
        "id": "qihr6cHvNnbW"
      },
      "outputs": [],
      "source": [
        "import networkx as nx\n",
        "import numpy as np"
      ]
    },
    {
      "cell_type": "code",
      "execution_count": 29,
      "metadata": {
        "id": "zVgR18JLNwmI"
      },
      "outputs": [],
      "source": [
        "def calculate_edge_cost(G, node1, node2, predicted_speed_weight=0.7):\n",
        "    dist = G[node1][node2]['weight']\n",
        "    current_speed = (G.nodes[node1]['current_speed'] + G.nodes[node2]['current_speed']) / 2\n",
        "    predicted_speed = (G.nodes[node1]['predicted_speed'] + G.nodes[node2]['predicted_speed']) / 2\n",
        "\n",
        "    # Combine current and predicted speeds\n",
        "    effective_speed = current_speed * (1 - predicted_speed_weight) + predicted_speed * predicted_speed_weight\n",
        "\n",
        "    # Adjust for congestion\n",
        "    congestion_factor = 1\n",
        "    if G.nodes[node1]['congestion_level'] == 'Heavy' or G.nodes[node2]['congestion_level'] == 'Heavy':\n",
        "        congestion_factor = 2\n",
        "    elif G.nodes[node1]['congestion_level'] == 'Moderate' or G.nodes[node2]['congestion_level'] == 'Moderate':\n",
        "        congestion_factor = 1.5\n",
        "\n",
        "    # Calculate time to travel this edge\n",
        "    time = (dist / effective_speed) * congestion_factor\n",
        "\n",
        "    return time\n"
      ]
    },
    {
      "cell_type": "code",
      "execution_count": 30,
      "metadata": {
        "id": "1kfUqIIGOSJ3"
      },
      "outputs": [],
      "source": [
        "def build_graph(traffic_data):\n",
        "    G = nx.Graph()\n",
        "    for data in traffic_data:\n",
        "        node = (data['latitude'], data['longitude'])\n",
        "        G.add_node(node,\n",
        "                   current_speed=data['current_speed'],\n",
        "                   predicted_speed=data['predicted_speed'],\n",
        "                   congestion_level=data['congestion_level'])\n",
        "\n",
        "    # Connect all nodes to ensure a fully connected graph\n",
        "    nodes = list(G.nodes())\n",
        "    for i in range(len(nodes)):\n",
        "        for j in range(i+1, len(nodes)):\n",
        "            node1, node2 = nodes[i], nodes[j]\n",
        "            dist = np.sqrt((node1[0]-node2[0])**2 + (node1[1]-node2[1])**2)\n",
        "            G.add_edge(node1, node2, weight=dist)\n",
        "\n",
        "    return G"
      ]
    },
    {
      "cell_type": "code",
      "execution_count": 31,
      "metadata": {
        "id": "As8ZhXcdOTCP"
      },
      "outputs": [],
      "source": [
        "def optimize_route(G, start, end):\n",
        "    def cost_function(node1, node2, edge_data):\n",
        "        return calculate_edge_cost(G, node1, node2)\n",
        "\n",
        "    try:\n",
        "        path = nx.dijkstra_path(G, start, end, weight=cost_function)\n",
        "        total_cost = nx.dijkstra_path_length(G, start, end, weight=cost_function)\n",
        "        return path, total_cost\n",
        "    except nx.NetworkXNoPath:\n",
        "        print(f\"No path found between {start} and {end}. Graph information:\")\n",
        "        print(f\"Number of nodes: {G.number_of_nodes()}\")\n",
        "        print(f\"Number of edges: {G.number_of_edges()}\")\n",
        "        print(f\"Is the graph connected? {nx.is_connected(G)}\")\n",
        "        return None, None"
      ]
    },
    {
      "cell_type": "code",
      "execution_count": 32,
      "metadata": {
        "id": "nqORJ63soCwn"
      },
      "outputs": [],
      "source": [
        "import networkx as nx"
      ]
    },
    {
      "cell_type": "code",
      "execution_count": null,
      "metadata": {
        "id": "oYbbLTU5QU5t"
      },
      "outputs": [],
      "source": [
        "import asyncio\n",
        "import pandas as pd\n",
        "import numpy as np\n",
        "from datetime import datetime\n",
        "import pytz\n",
        "from sklearn.preprocessing import StandardScaler\n",
        "import joblib\n",
        "\n",
        "async def main():\n",
        "    # Initial setup\n",
        "    num_iterations = 1\n",
        "    interval = 20\n",
        "    all_results = []\n",
        "    NYC_TZ = pytz.timezone('America/New_York')\n",
        "\n",
        "    # Initial data collection\n",
        "    print(\"Starting initial data collection...\")\n",
        "    for i in range(num_iterations):\n",
        "        results = await fetch_new_data()\n",
        "        all_results.extend(results)\n",
        "        print(f\"Iteration {i+1}/{num_iterations}: Collected {len(results)} data points.\")\n",
        "        await asyncio.sleep(interval)\n",
        "\n",
        "    print(\"\\nInitial data collection completed. Processing data and training models...\")\n",
        "\n",
        "    # Convert all results to DataFrame\n",
        "    df = pd.DataFrame(all_results)\n",
        "\n",
        "    # Calculate derived features\n",
        "    df['speed_ratio'] = df['current_speed'] / df['free_flow_speed']\n",
        "    df['congestion_level'] = pd.cut(df['speed_ratio'],\n",
        "                                    bins=[0, 0.5, 0.75, 1, float('inf')],\n",
        "                                    labels=['Heavy', 'Moderate', 'Light', 'Free Flow'])\n",
        "\n",
        "    # Prepare data for the model\n",
        "    X, y_speed, y_congestion, le = prepare_data_for_model(df)\n",
        "\n",
        "    # Scale the features\n",
        "    scaler = StandardScaler()\n",
        "    X_scaled = scaler.fit_transform(X)\n",
        "\n",
        "    # Train models\n",
        "    rf_speed, rf_congestion = train_models(X_scaled, y_speed, y_congestion)\n",
        "\n",
        "    # Save the initial models\n",
        "    save_models(rf_speed, rf_congestion, scaler, le)\n",
        "\n",
        "    print(\"\\nStarting real-time prediction and route optimization...\")\n",
        "\n",
        "    while True:\n",
        "        try:\n",
        "            # Fetch new data\n",
        "            new_data = await fetch_new_data()\n",
        "\n",
        "            if new_data:\n",
        "                # Make predictions\n",
        "                predictions_df = make_predictions((rf_speed, rf_congestion), new_data, scaler, le)\n",
        "\n",
        "                # Print some results\n",
        "                print(\"\\nLatest predictions:\")\n",
        "                print(predictions_df[['current_speed', 'predicted_speed', 'congestion_level', 'predicted_congestion']].head())\n",
        "\n",
        "                # Build graph for route optimization\n",
        "                G = build_graph(predictions_df.to_dict('records'))\n",
        "\n",
        "                # Optimize route between two random nodes\n",
        "                nodes = list(G.nodes())\n",
        "                if len(nodes) >= 2:\n",
        "                    start = nodes[0]\n",
        "                    end = nodes[-1]\n",
        "\n",
        "                    print(f\"\\nAttempting to find route from {start} to {end}\")\n",
        "                    path, total_cost = optimize_route(G, start, end)\n",
        "\n",
        "                    if path:\n",
        "                        print(f\"Optimized route found:\")\n",
        "                        print(f\"Path: {path}\")\n",
        "                        print(f\"Estimated travel time: {total_cost:.2f} hours\")\n",
        "                    else:\n",
        "                        print(\"Failed to find a path. Please check the graph connectivity.\")\n",
        "                else:\n",
        "                    print(\"\\nNot enough nodes for route optimization\")\n",
        "\n",
        "                # Save the results\n",
        "                current_time = datetime.now(NYC_TZ).strftime(\"%Y%m%d_%H%M%S\")\n",
        "                predictions_df.to_csv(f'predictions_{current_time}.csv', index=False)\n",
        "\n",
        "                # Update the main DataFrame\n",
        "                df = pd.concat([df, predictions_df], ignore_index=True)\n",
        "                df = df.drop_duplicates(subset=['latitude', 'longitude', 'timestamp'], keep='last')\n",
        "\n",
        "                # Optionally, update the model periodically\n",
        "                if len(df) % 100 == 0:\n",
        "                    print(\"\\nUpdating model...\")\n",
        "                    X, y_speed, y_congestion, le = prepare_data_for_model(df)\n",
        "                    X_scaled = scaler.fit_transform(X)\n",
        "                    rf_speed, rf_congestion = train_models(X_scaled, y_speed, y_congestion)\n",
        "                    save_models(rf_speed, rf_congestion, scaler, le)\n",
        "            else:\n",
        "                print(\"\\nNo new data received.\")\n",
        "\n",
        "            # Wait for the next interval\n",
        "            print(f\"\\nWaiting for {interval} seconds before next data fetch...\")\n",
        "            await asyncio.sleep(interval)\n",
        "\n",
        "        except KeyboardInterrupt:\n",
        "            print(\"\\nStopping real-time prediction and route optimization...\")\n",
        "            break\n",
        "        except Exception as e:\n",
        "            print(f\"An error occurred: {e}\")\n",
        "            print(\"Waiting before retry...\")\n",
        "            await asyncio.sleep(interval)\n",
        "\n",
        "def save_models(rf_speed, rf_congestion, scaler, le):\n",
        "    joblib.dump(rf_speed, 'rf_speed_model.joblib')\n",
        "    joblib.dump(rf_congestion, 'rf_congestion_model.joblib')\n",
        "    joblib.dump(scaler, 'scaler.joblib')\n",
        "    joblib.dump(le, 'label_encoder.joblib')\n",
        "    print(\"Models saved successfully.\")\n",
        "\n",
        "# Run the main function\n",
        "if __name__ == \"__main__\":\n",
        "    import nest_asyncio\n",
        "    nest_asyncio.apply()\n",
        "    asyncio.run(main())"
      ]
    },
    {
      "cell_type": "code",
      "execution_count": 34,
      "metadata": {
        "colab": {
          "base_uri": "https://localhost:8080/"
        },
        "id": "2gZkRcCkQsqa",
        "outputId": "ac6edf74-6b85-4d4a-c418-2a4064c89c72"
      },
      "outputs": [
        {
          "output_type": "stream",
          "name": "stdout",
          "text": [
            "Requirement already satisfied: flask in /usr/local/lib/python3.10/dist-packages (2.2.5)\n",
            "Collecting pyngrok\n",
            "  Downloading pyngrok-7.2.0-py3-none-any.whl.metadata (7.4 kB)\n",
            "Requirement already satisfied: Werkzeug>=2.2.2 in /usr/local/lib/python3.10/dist-packages (from flask) (3.0.4)\n",
            "Requirement already satisfied: Jinja2>=3.0 in /usr/local/lib/python3.10/dist-packages (from flask) (3.1.4)\n",
            "Requirement already satisfied: itsdangerous>=2.0 in /usr/local/lib/python3.10/dist-packages (from flask) (2.2.0)\n",
            "Requirement already satisfied: click>=8.0 in /usr/local/lib/python3.10/dist-packages (from flask) (8.1.7)\n",
            "Requirement already satisfied: PyYAML>=5.1 in /usr/local/lib/python3.10/dist-packages (from pyngrok) (6.0.2)\n",
            "Requirement already satisfied: MarkupSafe>=2.0 in /usr/local/lib/python3.10/dist-packages (from Jinja2>=3.0->flask) (2.1.5)\n",
            "Downloading pyngrok-7.2.0-py3-none-any.whl (22 kB)\n",
            "Installing collected packages: pyngrok\n",
            "Successfully installed pyngrok-7.2.0\n"
          ]
        }
      ],
      "source": [
        "!pip install flask pyngrok"
      ]
    },
    {
      "cell_type": "code",
      "execution_count": 35,
      "metadata": {
        "colab": {
          "base_uri": "https://localhost:8080/"
        },
        "id": "MD6KkXjOnY8r",
        "outputId": "5ed094a5-da23-48d5-be03-bc70f81aebd2"
      },
      "outputs": [
        {
          "output_type": "stream",
          "name": "stdout",
          "text": [
            "Collecting osmnx\n",
            "  Downloading osmnx-1.9.4-py3-none-any.whl.metadata (4.9 kB)\n",
            "Requirement already satisfied: geopandas<0.15,>=0.12 in /usr/local/lib/python3.10/dist-packages (from osmnx) (0.14.4)\n",
            "Requirement already satisfied: networkx<3.4,>=2.5 in /usr/local/lib/python3.10/dist-packages (from osmnx) (3.3)\n",
            "Requirement already satisfied: numpy<1.27,>=1.20 in /usr/local/lib/python3.10/dist-packages (from osmnx) (1.26.4)\n",
            "Requirement already satisfied: pandas<2.3,>=1.1 in /usr/local/lib/python3.10/dist-packages (from osmnx) (2.1.4)\n",
            "Requirement already satisfied: requests<2.33,>=2.27 in /usr/local/lib/python3.10/dist-packages (from osmnx) (2.32.3)\n",
            "Requirement already satisfied: shapely<2.1,>=2.0 in /usr/local/lib/python3.10/dist-packages (from osmnx) (2.0.6)\n",
            "Requirement already satisfied: fiona>=1.8.21 in /usr/local/lib/python3.10/dist-packages (from geopandas<0.15,>=0.12->osmnx) (1.9.6)\n",
            "Requirement already satisfied: packaging in /usr/local/lib/python3.10/dist-packages (from geopandas<0.15,>=0.12->osmnx) (24.1)\n",
            "Requirement already satisfied: pyproj>=3.3.0 in /usr/local/lib/python3.10/dist-packages (from geopandas<0.15,>=0.12->osmnx) (3.6.1)\n",
            "Requirement already satisfied: python-dateutil>=2.8.2 in /usr/local/lib/python3.10/dist-packages (from pandas<2.3,>=1.1->osmnx) (2.8.2)\n",
            "Requirement already satisfied: pytz>=2020.1 in /usr/local/lib/python3.10/dist-packages (from pandas<2.3,>=1.1->osmnx) (2024.1)\n",
            "Requirement already satisfied: tzdata>=2022.1 in /usr/local/lib/python3.10/dist-packages (from pandas<2.3,>=1.1->osmnx) (2024.1)\n",
            "Requirement already satisfied: charset-normalizer<4,>=2 in /usr/local/lib/python3.10/dist-packages (from requests<2.33,>=2.27->osmnx) (3.3.2)\n",
            "Requirement already satisfied: idna<4,>=2.5 in /usr/local/lib/python3.10/dist-packages (from requests<2.33,>=2.27->osmnx) (3.8)\n",
            "Requirement already satisfied: urllib3<3,>=1.21.1 in /usr/local/lib/python3.10/dist-packages (from requests<2.33,>=2.27->osmnx) (2.0.7)\n",
            "Requirement already satisfied: certifi>=2017.4.17 in /usr/local/lib/python3.10/dist-packages (from requests<2.33,>=2.27->osmnx) (2024.7.4)\n",
            "Requirement already satisfied: attrs>=19.2.0 in /usr/local/lib/python3.10/dist-packages (from fiona>=1.8.21->geopandas<0.15,>=0.12->osmnx) (24.2.0)\n",
            "Requirement already satisfied: click~=8.0 in /usr/local/lib/python3.10/dist-packages (from fiona>=1.8.21->geopandas<0.15,>=0.12->osmnx) (8.1.7)\n",
            "Requirement already satisfied: click-plugins>=1.0 in /usr/local/lib/python3.10/dist-packages (from fiona>=1.8.21->geopandas<0.15,>=0.12->osmnx) (1.1.1)\n",
            "Requirement already satisfied: cligj>=0.5 in /usr/local/lib/python3.10/dist-packages (from fiona>=1.8.21->geopandas<0.15,>=0.12->osmnx) (0.7.2)\n",
            "Requirement already satisfied: six in /usr/local/lib/python3.10/dist-packages (from fiona>=1.8.21->geopandas<0.15,>=0.12->osmnx) (1.16.0)\n",
            "Downloading osmnx-1.9.4-py3-none-any.whl (107 kB)\n",
            "\u001b[2K   \u001b[90m━━━━━━━━━━━━━━━━━━━━━━━━━━━━━━━━━━━━━━━━\u001b[0m \u001b[32m107.5/107.5 kB\u001b[0m \u001b[31m2.2 MB/s\u001b[0m eta \u001b[36m0:00:00\u001b[0m\n",
            "\u001b[?25hInstalling collected packages: osmnx\n",
            "Successfully installed osmnx-1.9.4\n"
          ]
        }
      ],
      "source": [
        "!pip install osmnx"
      ]
    },
    {
      "cell_type": "code",
      "execution_count": 36,
      "metadata": {
        "id": "pGpY053XRhPx"
      },
      "outputs": [],
      "source": [
        "import os\n",
        "os.environ['NGROK_AUTH_TOKEN'] = '2lAYo1STfa8bopCQOAIsbEvseUz_5sxRJ28NUQCLhVZRR716k'"
      ]
    },
    {
      "cell_type": "code",
      "execution_count": 37,
      "metadata": {
        "colab": {
          "base_uri": "https://localhost:8080/"
        },
        "id": "ETTCQsZ_aHgZ",
        "outputId": "7f3e7794-83e8-4b0e-a203-77c6d2752b27"
      },
      "outputs": [
        {
          "output_type": "stream",
          "name": "stdout",
          "text": [
            "Requirement already satisfied: folium in /usr/local/lib/python3.10/dist-packages (0.17.0)\n",
            "Requirement already satisfied: branca>=0.6.0 in /usr/local/lib/python3.10/dist-packages (from folium) (0.7.2)\n",
            "Requirement already satisfied: jinja2>=2.9 in /usr/local/lib/python3.10/dist-packages (from folium) (3.1.4)\n",
            "Requirement already satisfied: numpy in /usr/local/lib/python3.10/dist-packages (from folium) (1.26.4)\n",
            "Requirement already satisfied: requests in /usr/local/lib/python3.10/dist-packages (from folium) (2.32.3)\n",
            "Requirement already satisfied: xyzservices in /usr/local/lib/python3.10/dist-packages (from folium) (2024.6.0)\n",
            "Requirement already satisfied: MarkupSafe>=2.0 in /usr/local/lib/python3.10/dist-packages (from jinja2>=2.9->folium) (2.1.5)\n",
            "Requirement already satisfied: charset-normalizer<4,>=2 in /usr/local/lib/python3.10/dist-packages (from requests->folium) (3.3.2)\n",
            "Requirement already satisfied: idna<4,>=2.5 in /usr/local/lib/python3.10/dist-packages (from requests->folium) (3.8)\n",
            "Requirement already satisfied: urllib3<3,>=1.21.1 in /usr/local/lib/python3.10/dist-packages (from requests->folium) (2.0.7)\n",
            "Requirement already satisfied: certifi>=2017.4.17 in /usr/local/lib/python3.10/dist-packages (from requests->folium) (2024.7.4)\n"
          ]
        }
      ],
      "source": [
        "!pip install folium"
      ]
    },
    {
      "cell_type": "code",
      "execution_count": 38,
      "metadata": {
        "id": "KkqMeNm8Q_tz"
      },
      "outputs": [],
      "source": [
        "!mkdir templates"
      ]
    },
    {
      "cell_type": "code",
      "execution_count": 39,
      "metadata": {
        "id": "XO--tTSoVI3w"
      },
      "outputs": [],
      "source": [
        "!touch templates/index.html"
      ]
    },
    {
      "cell_type": "code",
      "execution_count": 40,
      "metadata": {
        "id": "V8jF8Eqfjh4h",
        "colab": {
          "base_uri": "https://localhost:8080/"
        },
        "outputId": "10a582cf-2ccc-4bed-90fc-08762fe1f8ea"
      },
      "outputs": [
        {
          "output_type": "stream",
          "name": "stdout",
          "text": [
            "Requirement already satisfied: flask in /usr/local/lib/python3.10/dist-packages (2.2.5)\n",
            "Requirement already satisfied: pyngrok in /usr/local/lib/python3.10/dist-packages (7.2.0)\n",
            "Requirement already satisfied: joblib in /usr/local/lib/python3.10/dist-packages (1.4.2)\n",
            "Requirement already satisfied: pandas in /usr/local/lib/python3.10/dist-packages (2.1.4)\n",
            "Requirement already satisfied: networkx in /usr/local/lib/python3.10/dist-packages (3.3)\n",
            "Requirement already satisfied: numpy in /usr/local/lib/python3.10/dist-packages (1.26.4)\n",
            "Requirement already satisfied: geopy in /usr/local/lib/python3.10/dist-packages (2.4.1)\n",
            "Requirement already satisfied: folium in /usr/local/lib/python3.10/dist-packages (0.17.0)\n",
            "Requirement already satisfied: requests in /usr/local/lib/python3.10/dist-packages (2.32.3)\n",
            "Requirement already satisfied: Werkzeug>=2.2.2 in /usr/local/lib/python3.10/dist-packages (from flask) (3.0.4)\n",
            "Requirement already satisfied: Jinja2>=3.0 in /usr/local/lib/python3.10/dist-packages (from flask) (3.1.4)\n",
            "Requirement already satisfied: itsdangerous>=2.0 in /usr/local/lib/python3.10/dist-packages (from flask) (2.2.0)\n",
            "Requirement already satisfied: click>=8.0 in /usr/local/lib/python3.10/dist-packages (from flask) (8.1.7)\n",
            "Requirement already satisfied: PyYAML>=5.1 in /usr/local/lib/python3.10/dist-packages (from pyngrok) (6.0.2)\n",
            "Requirement already satisfied: python-dateutil>=2.8.2 in /usr/local/lib/python3.10/dist-packages (from pandas) (2.8.2)\n",
            "Requirement already satisfied: pytz>=2020.1 in /usr/local/lib/python3.10/dist-packages (from pandas) (2024.1)\n",
            "Requirement already satisfied: tzdata>=2022.1 in /usr/local/lib/python3.10/dist-packages (from pandas) (2024.1)\n",
            "Requirement already satisfied: geographiclib<3,>=1.52 in /usr/local/lib/python3.10/dist-packages (from geopy) (2.0)\n",
            "Requirement already satisfied: branca>=0.6.0 in /usr/local/lib/python3.10/dist-packages (from folium) (0.7.2)\n",
            "Requirement already satisfied: xyzservices in /usr/local/lib/python3.10/dist-packages (from folium) (2024.6.0)\n",
            "Requirement already satisfied: charset-normalizer<4,>=2 in /usr/local/lib/python3.10/dist-packages (from requests) (3.3.2)\n",
            "Requirement already satisfied: idna<4,>=2.5 in /usr/local/lib/python3.10/dist-packages (from requests) (3.8)\n",
            "Requirement already satisfied: urllib3<3,>=1.21.1 in /usr/local/lib/python3.10/dist-packages (from requests) (2.0.7)\n",
            "Requirement already satisfied: certifi>=2017.4.17 in /usr/local/lib/python3.10/dist-packages (from requests) (2024.7.4)\n",
            "Requirement already satisfied: MarkupSafe>=2.0 in /usr/local/lib/python3.10/dist-packages (from Jinja2>=3.0->flask) (2.1.5)\n",
            "Requirement already satisfied: six>=1.5 in /usr/local/lib/python3.10/dist-packages (from python-dateutil>=2.8.2->pandas) (1.16.0)\n"
          ]
        }
      ],
      "source": [
        "!pip install flask pyngrok joblib pandas networkx numpy geopy folium requests"
      ]
    },
    {
      "cell_type": "code",
      "execution_count": null,
      "metadata": {
        "id": "Hi0MOiSFjh8t"
      },
      "outputs": [],
      "source": []
    },
    {
      "cell_type": "code",
      "execution_count": null,
      "metadata": {
        "id": "tYfKyNg5jiQ_"
      },
      "outputs": [],
      "source": []
    },
    {
      "cell_type": "code",
      "execution_count": 62,
      "metadata": {
        "colab": {
          "base_uri": "https://localhost:8080/"
        },
        "id": "ccj8CQWtwmSB",
        "outputId": "0fd1b0f6-05b6-424e-cc1c-d377d3c6924c"
      },
      "outputs": [
        {
          "output_type": "stream",
          "name": "stderr",
          "text": [
            "INFO:__main__:Models loaded successfully\n"
          ]
        }
      ],
      "source": [
        "from flask import Flask, render_template, request, jsonify, send_from_directory\n",
        "from pyngrok import ngrok\n",
        "import joblib\n",
        "import pandas as pd\n",
        "import networkx as nx\n",
        "import numpy as np\n",
        "import os\n",
        "import logging\n",
        "import traceback\n",
        "import requests\n",
        "import random\n",
        "from geopy.geocoders import Nominatim\n",
        "from geopy.exc import GeocoderTimedOut, GeocoderUnavailable\n",
        "from geopy.distance import geodesic\n",
        "import folium\n",
        "import osmnx as ox\n",
        "from logging.handlers import RotatingFileHandler\n",
        "from tenacity import retry, stop_after_attempt, wait_exponential\n",
        "\n",
        "app = Flask(__name__)\n",
        "\n",
        "def setup_logging():\n",
        "    handler = RotatingFileHandler('app.log', maxBytes=10000, backupCount=3)\n",
        "    handler.setLevel(logging.INFO)\n",
        "    formatter = logging.Formatter('%(asctime)s - %(name)s - %(levelname)s - %(message)s')\n",
        "    handler.setFormatter(formatter)\n",
        "    app.logger.addHandler(handler)\n",
        "    app.logger.setLevel(logging.INFO)\n",
        "\n",
        "setup_logging()\n",
        "\n",
        "ngrok_auth_token = os.getenv(\"NGROK_AUTH_TOKEN\")\n",
        "if not ngrok_auth_token:\n",
        "    raise ValueError(\"NGROK_AUTH_TOKEN environment variable is not set\")\n",
        "ngrok.set_auth_token(ngrok_auth_token)\n",
        "\n",
        "try:\n",
        "    rf_speed = joblib.load('rf_speed_model.joblib')\n",
        "    rf_congestion = joblib.load('rf_congestion_model.joblib')\n",
        "    scaler = joblib.load('scaler.joblib')\n",
        "    le = joblib.load('label_encoder.joblib')\n",
        "    app.logger.info(\"Models loaded successfully\")\n",
        "except FileNotFoundError as e:\n",
        "    app.logger.error(f\"Error loading model files: {e}\")\n",
        "    raise\n",
        "\n",
        "geolocator = Nominatim(user_agent=\"traffic_optimizer\")\n",
        "\n",
        "@retry(stop=stop_after_attempt(3), wait=wait_exponential(multiplier=1, min=4, max=10))\n",
        "def geocode(place_name):\n",
        "    try:\n",
        "        location = geolocator.geocode(place_name, timeout=10)\n",
        "        if location:\n",
        "            return location.latitude, location.longitude\n",
        "        else:\n",
        "            raise ValueError(f\"Could not find coordinates for {place_name}\")\n",
        "    except (GeocoderTimedOut, GeocoderUnavailable) as e:\n",
        "        app.logger.error(f\"Geocoding service error: {str(e)}\")\n",
        "        raise\n",
        "\n",
        "def get_weather_data(lat, lon):\n",
        "    api_key = \"28edebb4a2f283c1805f913584ad2905\"  # Replace with your actual API key\n",
        "    url = f\"http://api.openweathermap.org/data/2.5/weather?lat={lat}&lon={lon}&appid={api_key}&units=metric\"\n",
        "    try:\n",
        "        response = requests.get(url)\n",
        "        data = response.json()\n",
        "        return {\n",
        "            'humidity': data['main']['humidity'],\n",
        "            'temperature': data['main']['temp']\n",
        "        }\n",
        "    except Exception as e:\n",
        "        app.logger.error(f\"Error fetching weather data: {str(e)}\")\n",
        "        return {'humidity': 50, 'temperature': 20}  # Default values\n",
        "\n",
        "def prepare_data(lat, lon):\n",
        "    weather = get_weather_data(lat, lon)\n",
        "    data = {\n",
        "        'hour': pd.Timestamp.now().hour,\n",
        "        'day_of_week': pd.Timestamp.now().dayofweek,\n",
        "        'is_weekend': 1 if pd.Timestamp.now().dayofweek >= 5 else 0,\n",
        "        'is_rush_hour': 1 if pd.Timestamp.now().hour in [7, 8, 9, 16, 17, 18] else 0,\n",
        "        'humidity': weather['humidity'],\n",
        "        'temperature': weather['temperature'],\n",
        "        'speed_ratio': 1.0,\n",
        "    }\n",
        "    return pd.DataFrame([data])\n",
        "\n",
        "def make_prediction(df):\n",
        "    X = df[scaler.feature_names_in_]\n",
        "    app.logger.info(f\"Features being used for prediction: {X.columns}\")\n",
        "    X_scaled = scaler.transform(X)\n",
        "    speed_pred = rf_speed.predict(X_scaled)\n",
        "    congestion_pred = rf_congestion.predict(X_scaled)\n",
        "    return speed_pred[0], le.inverse_transform([congestion_pred[0]])[0]\n",
        "\n",
        "def calculate_edge_cost(G, u, v, d):\n",
        "    length = d.get('length', 1)  # Use 'length' if available, otherwise default to 1\n",
        "    speed = d.get('speed', 30)  # Default speed if not set\n",
        "    time = length / (speed * 1000 / 3600)  # Convert km/h to m/s\n",
        "    return time\n",
        "\n",
        "def optimize_route(G, start, end):\n",
        "    try:\n",
        "        start_node = ox.distance.nearest_nodes(G, start[1], start[0])\n",
        "        end_node = ox.distance.nearest_nodes(G, end[1], end[0])\n",
        "\n",
        "        path = nx.shortest_path(G, start_node, end_node, weight=lambda u, v, data: calculate_edge_cost(G, u, v, data[0]))\n",
        "\n",
        "        total_time = sum(calculate_edge_cost(G, path[i], path[i+1], G.get_edge_data(path[i], path[i+1], 0)) for i in range(len(path)-1))\n",
        "        total_distance = sum(G.edges[path[i], path[i+1], 0]['length'] for i in range(len(path)-1))\n",
        "\n",
        "        return path, total_time, total_distance\n",
        "    except nx.NetworkXNoPath:\n",
        "        app.logger.error(f\"No path found between {start} and {end}.\")\n",
        "        return None, None, None\n",
        "\n",
        "def get_color_for_congestion(congestion):\n",
        "    if congestion == 'Light':\n",
        "        return 'green'\n",
        "    elif congestion == 'Moderate':\n",
        "        return 'orange'\n",
        "    else:\n",
        "        return 'red'\n",
        "\n",
        "def create_map(G, path, congestion_levels):\n",
        "    m = folium.Map(location=[G.nodes[path[0]]['y'], G.nodes[path[0]]['x']], zoom_start=12)\n",
        "\n",
        "    for i in range(len(path) - 1):\n",
        "        color = get_color_for_congestion(congestion_levels[i])\n",
        "        folium.PolyLine(\n",
        "            locations=[(G.nodes[path[i]]['y'], G.nodes[path[i]]['x']), (G.nodes[path[i+1]]['y'], G.nodes[path[i+1]]['x'])],\n",
        "            color=color,\n",
        "            weight=4,\n",
        "            opacity=0.8\n",
        "        ).add_to(m)\n",
        "\n",
        "    folium.Marker([G.nodes[path[0]]['y'], G.nodes[path[0]]['x']], popup='Start').add_to(m)\n",
        "    folium.Marker([G.nodes[path[-1]]['y'], G.nodes[path[-1]]['x']], popup='End').add_to(m)\n",
        "\n",
        "    legend_html = '''\n",
        "    <div style=\"position: fixed;\n",
        "                bottom: 50px; left: 50px; width: 150px; height: 90px;\n",
        "                border:2px solid grey; z-index:9999; font-size:12px;\n",
        "                background-color:white; padding: 10px;\">\n",
        "    <b>Congestion Levels</b><br>\n",
        "    <i style=\"color:green\">●</i> Light<br>\n",
        "    <i style=\"color:orange\">●</i> Moderate<br>\n",
        "    <i style=\"color:red\">●</i> Heavy\n",
        "    </div>\n",
        "    '''\n",
        "    m.get_root().html.add_child(folium.Element(legend_html))\n",
        "\n",
        "    map_file = os.path.join(app.root_path, 'templates', 'temp_map.html')\n",
        "    m.save(map_file)\n",
        "    return os.path.basename(map_file)\n",
        "\n",
        "@app.route('/')\n",
        "def index():\n",
        "    return render_template('index.html')\n",
        "\n",
        "@app.route('/predict', methods=['POST'])\n",
        "def predict():\n",
        "    try:\n",
        "        data = request.json\n",
        "        app.logger.info(f\"Received data: {data}\")\n",
        "\n",
        "        start_place = data['start']\n",
        "        end_place = data['end']\n",
        "\n",
        "        start_lat, start_lon = geocode(start_place)\n",
        "        end_lat, end_lon = geocode(end_place)\n",
        "\n",
        "        start_df = prepare_data(start_lat, start_lon)\n",
        "        end_df = prepare_data(end_lat, end_lon)\n",
        "\n",
        "        start_speed, start_congestion = make_prediction(start_df)\n",
        "        end_speed, end_congestion = make_prediction(end_df)\n",
        "\n",
        "        # Load the road network\n",
        "        G = ox.graph_from_point((start_lat, start_lon), dist=10000, network_type='drive')\n",
        "\n",
        "        for _, _, d in G.edges(data=True):\n",
        "            d['speed'] = random.uniform(20, 80)  # Random speed between 20 and 80 km/h\n",
        "            d['congestion'] = random.choice(['Light', 'Moderate', 'Heavy'])\n",
        "\n",
        "        app.logger.info(\"Optimizing route\")\n",
        "        path, travel_time, distance = optimize_route(G, (start_lat, start_lon), (end_lat, end_lon))\n",
        "\n",
        "        if path is None:\n",
        "            return jsonify({'error': 'No path found'}), 400\n",
        "\n",
        "        congestion_levels = [G.edges[path[i], path[i+1], 0]['congestion'] for i in range(len(path)-1)]\n",
        "\n",
        "        map_file = create_map(G, path, congestion_levels)\n",
        "\n",
        "        result = {\n",
        "            'start': {\n",
        "                'place': start_place,\n",
        "                'coordinates': [start_lat, start_lon],\n",
        "                'speed': float(start_speed),\n",
        "                'congestion': start_congestion\n",
        "            },\n",
        "            'end': {\n",
        "                'place': end_place,\n",
        "                'coordinates': [end_lat, end_lon],\n",
        "                'speed': float(end_speed),\n",
        "                'congestion': end_congestion\n",
        "            },\n",
        "            'path': path,\n",
        "            'travel_time': travel_time / 3600,  # Convert seconds to hours\n",
        "            'distance': distance / 1000,  # Convert meters to kilometers\n",
        "            'map_file': map_file\n",
        "        }\n",
        "        app.logger.info(f\"Returning result: {result}\")\n",
        "        return jsonify(result)\n",
        "    except Exception as e:\n",
        "        app.logger.error(f\"An error occurred: {str(e)}\", exc_info=True)\n",
        "        return jsonify({\n",
        "            'error': str(e),\n",
        "            'traceback': traceback.format_exc()\n",
        "        }), 400\n",
        "\n",
        "@app.route('/map/<path:filename>')\n",
        "def serve_map(filename):\n",
        "    try:\n",
        "        return send_from_directory(os.path.join(app.root_path, 'templates'), filename)\n",
        "    except FileNotFoundError:\n",
        "        app.logger.error(f\"Map file not found: {filename}\")\n",
        "        return \"Map file not found\", 404\n",
        "\n"
      ]
    },
    {
      "cell_type": "code",
      "execution_count": 42,
      "metadata": {
        "id": "4LcquvUj-HhG"
      },
      "outputs": [],
      "source": [
        "html_content = '''<!DOCTYPE html>\n",
        "<html lang=\"en\">\n",
        "<head>\n",
        "    <meta charset=\"UTF-8\">\n",
        "    <meta name=\"viewport\" content=\"width=device-width, initial-scale=1.0\">\n",
        "    <title>Traffic Route Optimizer</title>\n",
        "    <link href=\"https://fonts.googleapis.com/css2?family=Poppins:wght@300;400;600&display=swap\" rel=\"stylesheet\">\n",
        "    <style>\n",
        "        body {\n",
        "            font-family: 'Poppins', sans-serif;\n",
        "            background: linear-gradient(135deg, #000000 0%, #434343 100%);\n",
        "            color: #ffffff;\n",
        "            margin: 0;\n",
        "            padding: 0;\n",
        "            display: flex;\n",
        "            justify-content: center;\n",
        "            align-items: center;\n",
        "            min-height: 100vh;\n",
        "        }\n",
        "        .container {\n",
        "            background-color: rgba(255, 255, 255, 0.1);\n",
        "            backdrop-filter: blur(10px);\n",
        "            border-radius: 20px;\n",
        "            padding: 3rem;\n",
        "            box-shadow: 0 8px 32px rgba(0, 0, 0, 0.37);\n",
        "            max-width: 600px;\n",
        "            width: 100%;\n",
        "        }\n",
        "        h1 {\n",
        "            text-align: center;\n",
        "            margin-bottom: 2rem;\n",
        "            color: #ff0000;\n",
        "            font-size: 2.5rem;\n",
        "            text-shadow: 2px 2px 4px rgba(0,0,0,0.1);\n",
        "        }\n",
        "        form {\n",
        "            display: flex;\n",
        "            flex-direction: column;\n",
        "        }\n",
        "        label {\n",
        "            margin-bottom: 0.5rem;\n",
        "            font-weight: 600;\n",
        "            color: #f0f0f0;\n",
        "        }\n",
        "        input {\n",
        "            padding: 1rem;\n",
        "            margin-bottom: 1.5rem;\n",
        "            border: none;\n",
        "            border-radius: 10px;\n",
        "            background-color: rgba(255, 255, 255, 0.2);\n",
        "            color: #ffffff;\n",
        "            font-size: 1rem;\n",
        "            transition: all 0.3s ease;\n",
        "        }\n",
        "        input:focus {\n",
        "            outline: none;\n",
        "            box-shadow: 0 0 0 2px #ff0000;\n",
        "        }\n",
        "        input::placeholder {\n",
        "            color: rgba(255, 255, 255, 0.7);\n",
        "        }\n",
        "        button {\n",
        "            padding: 1rem;\n",
        "            background-color: #ff0000;\n",
        "            color: white;\n",
        "            border: none;\n",
        "            border-radius: 10px;\n",
        "            cursor: pointer;\n",
        "            font-size: 1.1rem;\n",
        "            font-weight: 600;\n",
        "            transition: all 0.3s ease;\n",
        "            text-transform: uppercase;\n",
        "            letter-spacing: 1px;\n",
        "        }\n",
        "        button:hover {\n",
        "            background-color: #cc0000;\n",
        "            transform: translateY(-2px);\n",
        "            box-shadow: 0 4px 8px rgba(0,0,0,0.2);\n",
        "        }\n",
        "        #result {\n",
        "            margin-top: 2rem;\n",
        "            background-color: rgba(255, 255, 255, 0.1);\n",
        "            padding: 1.5rem;\n",
        "            border-radius: 10px;\n",
        "            font-size: 0.9rem;\n",
        "            line-height: 1.6;\n",
        "        }\n",
        "        #result h2 {\n",
        "            color: #ff0000;\n",
        "            margin-bottom: 1rem;\n",
        "        }\n",
        "        #result p {\n",
        "            margin-bottom: 0.5rem;\n",
        "        }\n",
        "        iframe {\n",
        "            border-radius: 10px;\n",
        "            margin-top: 1rem;\n",
        "        }\n",
        "    </style>\n",
        "</head>\n",
        "<body>\n",
        "    <div class=\"container\">\n",
        "        <h1>Traffic Route Optimizer 🚗</h1>\n",
        "        <form id=\"route-form\">\n",
        "            <label for=\"start\">From:</label>\n",
        "            <input type=\"text\" id=\"start\" name=\"start\" required placeholder=\"Enter starting location\">\n",
        "\n",
        "            <label for=\"end\">Destination:</label>\n",
        "            <input type=\"text\" id=\"end\" name=\"end\" required placeholder=\"Enter destination\">\n",
        "\n",
        "            <button type=\"submit\">Optimize Route</button>\n",
        "        </form>\n",
        "        <div id=\"result\"></div>\n",
        "    </div>\n",
        "    <script>\n",
        "    document.getElementById('route-form').addEventListener('submit', function(e) {\n",
        "    e.preventDefault();\n",
        "    const start = document.getElementById('start').value;\n",
        "    const end = document.getElementById('end').value;\n",
        "\n",
        "    fetch('/predict', {\n",
        "        method: 'POST',\n",
        "        headers: {\n",
        "            'Content-Type': 'application/json',\n",
        "        },\n",
        "        body: JSON.stringify({ start, end }),\n",
        "    })\n",
        "    .then(response => {\n",
        "        if (!response.ok) {\n",
        "            throw new Error(`HTTP error! status: ${response.status}`);\n",
        "        }\n",
        "        return response.json();\n",
        "    })\n",
        "    .then(data => {\n",
        "        const resultDiv = document.getElementById('result');\n",
        "        if (data.error) {\n",
        "            resultDiv.innerHTML = `<p>Error: ${data.error}</p>`;\n",
        "        } else {\n",
        "            resultDiv.innerHTML = `\n",
        "                <h2>Results 🎉</h2>\n",
        "                <p><strong>From:</strong> ${data.start.place}</p>\n",
        "                <p><span style=\"color: #ff0000;\">Speed:</span> ${data.start.speed.toFixed(2)} km/h</p>\n",
        "                <p><span style=\"color: #ff0000;\">Congestion:</span> ${data.start.congestion} 🚦</p>\n",
        "                <p><strong>Destination:</strong> ${data.end.place}</p>\n",
        "                <p><span style=\"color: #ff0000;\">Speed:</span> ${data.end.speed.toFixed(2)} km/h</p>\n",
        "                <p><span style=\"color: #ff0000;\">Congestion:</span> ${data.end.congestion} 🚦</p>\n",
        "                <p><strong>Estimated travel time:</strong> ${(data.travel_time / 3600).toFixed(2)} hours ⏱️</p>\n",
        "                <p><strong>Distance:</strong> ${data.distance.toFixed(2)} km 🛣️</p>\n",
        "                ${data.map_file ? `<iframe src=\"/map/${data.map_file}\" width=\"100%\" height=\"300\" frameborder=\"0\"></iframe>` : ''}\n",
        "            `;\n",
        "        }\n",
        "    })\n",
        "    .catch((error) => {\n",
        "        console.error('Error:', error);\n",
        "        document.getElementById('result').innerHTML = `<p>Error: ${error.message}</p>`;\n",
        "    });\n",
        "});\n",
        "</script>\n",
        "</body>\n",
        "</html>\n",
        "\n",
        "\n",
        "'''"
      ]
    },
    {
      "cell_type": "code",
      "source": [
        "'''<p><strong>Estimated travel time:</strong> ${(data.travel_time).toFixed(2)} hours ⏱️</p>'''"
      ],
      "metadata": {
        "id": "Lm-y1sxgdw9-"
      },
      "execution_count": null,
      "outputs": []
    },
    {
      "cell_type": "code",
      "source": [
        "#testing\n",
        "html_content = '''<!DOCTYPE html>\n",
        "<html lang=\"en\">\n",
        "<head>\n",
        "    <meta charset=\"UTF-8\">\n",
        "    <meta name=\"viewport\" content=\"width=device-width, initial-scale=1.0\">\n",
        "    <title>Traffic Route Optimizer</title>\n",
        "    <link href=\"https://fonts.googleapis.com/css2?family=Poppins:wght@300;400;600&display=swap\" rel=\"stylesheet\">\n",
        "    <style>\n",
        "        body {\n",
        "            font-family: 'Poppins', sans-serif;\n",
        "            background: linear-gradient(135deg, #000000 0%, #434343 100%);\n",
        "            color: #ffffff;\n",
        "            margin: 0;\n",
        "            padding: 0;\n",
        "            display: flex;\n",
        "            justify-content: center;\n",
        "            align-items: center;\n",
        "            min-height: 100vh;\n",
        "        }\n",
        "        .container {\n",
        "            background-color: rgba(255, 255, 255, 0.1);\n",
        "            backdrop-filter: blur(10px);\n",
        "            border-radius: 20px;\n",
        "            padding: 3rem;\n",
        "            box-shadow: 0 8px 32px rgba(0, 0, 0, 0.37);\n",
        "            max-width: 600px;\n",
        "            width: 100%;\n",
        "        }\n",
        "        h1 {\n",
        "            text-align: center;\n",
        "            margin-bottom: 2rem;\n",
        "            color: #ff0000;\n",
        "            font-size: 2.5rem;\n",
        "            text-shadow: 2px 2px 4px rgba(0,0,0,0.1);\n",
        "        }\n",
        "        form {\n",
        "            display: flex;\n",
        "            flex-direction: column;\n",
        "        }\n",
        "        label {\n",
        "            margin-bottom: 0.5rem;\n",
        "            font-weight: 600;\n",
        "            color: #f0f0f0;\n",
        "        }\n",
        "        input {\n",
        "            padding: 1rem;\n",
        "            margin-bottom: 1.5rem;\n",
        "            border: none;\n",
        "            border-radius: 10px;\n",
        "            background-color: rgba(255, 255, 255, 0.2);\n",
        "            color: #ffffff;\n",
        "            font-size: 1rem;\n",
        "            transition: all 0.3s ease;\n",
        "        }\n",
        "        input:focus {\n",
        "            outline: none;\n",
        "            box-shadow: 0 0 0 2px #ff0000;\n",
        "        }\n",
        "        input::placeholder {\n",
        "            color: rgba(255, 255, 255, 0.7);\n",
        "        }\n",
        "        button {\n",
        "            padding: 1rem;\n",
        "            background-color: #ff0000;\n",
        "            color: white;\n",
        "            border: none;\n",
        "            border-radius: 10px;\n",
        "            cursor: pointer;\n",
        "            font-size: 1.1rem;\n",
        "            font-weight: 600;\n",
        "            transition: all 0.3s ease;\n",
        "            text-transform: uppercase;\n",
        "            letter-spacing: 1px;\n",
        "        }\n",
        "        button:hover {\n",
        "            background-color: #cc0000;\n",
        "            transform: translateY(-2px);\n",
        "            box-shadow: 0 4px 8px rgba(0,0,0,0.2);\n",
        "        }\n",
        "        #result {\n",
        "            margin-top: 2rem;\n",
        "            background-color: rgba(255, 255, 255, 0.1);\n",
        "            padding: 1.5rem;\n",
        "            border-radius: 10px;\n",
        "            font-size: 0.9rem;\n",
        "            line-height: 1.6;\n",
        "        }\n",
        "        #result h2 {\n",
        "            color: #ff0000;\n",
        "            margin-bottom: 1rem;\n",
        "        }\n",
        "        #result p {\n",
        "            margin-bottom: 0.5rem;\n",
        "        }\n",
        "        iframe {\n",
        "            border-radius: 10px;\n",
        "            margin-top: 1rem;\n",
        "        }\n",
        "    </style>\n",
        "</head>\n",
        "<body>\n",
        "    <div class=\"container\">\n",
        "        <h1>Traffic Route Optimizer 🚗</h1>\n",
        "        <form id=\"route-form\">\n",
        "            <label for=\"start\">From:</label>\n",
        "            <input type=\"text\" id=\"start\" name=\"start\" required placeholder=\"Enter starting location\">\n",
        "\n",
        "            <label for=\"end\">Destination:</label>\n",
        "            <input type=\"text\" id=\"end\" name=\"end\" required placeholder=\"Enter destination\">\n",
        "\n",
        "            <button type=\"submit\">Optimize Route</button>\n",
        "        </form>\n",
        "        <div id=\"result\"></div>\n",
        "    </div>\n",
        "    <script>\n",
        "    document.getElementById('route-form').addEventListener('submit', function(e) {\n",
        "    e.preventDefault();\n",
        "    const start = document.getElementById('start').value;\n",
        "    const end = document.getElementById('end').value;\n",
        "\n",
        "    fetch('/predict', {\n",
        "        method: 'POST',\n",
        "        headers: {\n",
        "            'Content-Type': 'application/json',\n",
        "        },\n",
        "        body: JSON.stringify({ start, end }),\n",
        "    })\n",
        "    .then(response => {\n",
        "        if (!response.ok) {\n",
        "            throw new Error(`HTTP error! status: ${response.status}`);\n",
        "        }\n",
        "        return response.json();\n",
        "    })\n",
        "    .then(data => {\n",
        "        const resultDiv = document.getElementById('result');\n",
        "        if (data.error) {\n",
        "            resultDiv.innerHTML = `<p>Error: ${data.error}</p>`;\n",
        "        } else {\n",
        "            resultDiv.innerHTML = `\n",
        "                <h2>Results 🎉</h2>\n",
        "                <p><strong>From:</strong> ${data.start.place}</p>\n",
        "                <p><span style=\"color: #ff0000;\">Speed:</span> ${data.start.speed.toFixed(2)} km/h</p>\n",
        "                <p><span style=\"color: #ff0000;\">Congestion:</span> ${data.start.congestion} 🚦</p>\n",
        "                <p><strong>Destination:</strong> ${data.end.place}</p>\n",
        "                <p><span style=\"color: #ff0000;\">Speed:</span> ${data.end.speed.toFixed(2)} km/h</p>\n",
        "                <p><span style=\"color: #ff0000;\">Congestion:</span> ${data.end.congestion} 🚦</p>\n",
        "                <p><strong>Estimated travel time:</strong> ${\n",
        "  data.travel_time >= 1\n",
        "    ? `${Math.floor(data.travel_time)} hr ${Math.round((data.travel_time % 1) * 60)} min`\n",
        "    : `${Math.round(data.travel_time * 60)} min`\n",
        "} ⏱️</p>\n",
        "                <p><strong>Distance:</strong> ${data.distance.toFixed(2)} km 🛣️</p>\n",
        "                ${data.map_file ? `<iframe src=\"/map/${data.map_file}\" width=\"100%\" height=\"300\" frameborder=\"0\"></iframe>` : ''}\n",
        "            `;\n",
        "        }\n",
        "    })\n",
        "    .catch((error) => {\n",
        "        console.error('Error:', error);\n",
        "        document.getElementById('result').innerHTML = `<p>Error: ${error.message}</p>`;\n",
        "    });\n",
        "});\n",
        "</script>\n",
        "</body>\n",
        "</html>\n",
        "\n",
        "\n",
        "'''"
      ],
      "metadata": {
        "id": "bScujaLzbHa8"
      },
      "execution_count": 60,
      "outputs": []
    },
    {
      "cell_type": "code",
      "execution_count": 61,
      "metadata": {
        "id": "RdRA3PD7joXz"
      },
      "outputs": [],
      "source": [
        "with open('templates/index.html', 'w') as f:\n",
        "    f.write(html_content)"
      ]
    },
    {
      "cell_type": "code",
      "execution_count": 58,
      "metadata": {
        "id": "qghG7iYCRFDA",
        "colab": {
          "base_uri": "https://localhost:8080/"
        },
        "outputId": "ac6a210c-5437-42e9-f469-399902257e51"
      },
      "outputs": [
        {
          "output_type": "stream",
          "name": "stdout",
          "text": [
            "<!DOCTYPE html>\n",
            "<html lang=\"en\">\n",
            "<head>\n",
            "    <meta charset=\"UTF-8\">\n",
            "    <meta name=\"viewport\" content=\"width=device-width, initial-scale=1.0\">\n",
            "    <title>Traffic Route Optimizer</title>\n",
            "    <link href=\"https://fonts.googleapis.com/css2?family=Poppins:wght@300;400;600&display=swap\" rel=\"stylesheet\">\n",
            "    <style>\n",
            "        body {\n",
            "            font-family: 'Poppins', sans-serif;\n",
            "            background: linear-gradient(135deg, #000000 0%, #434343 100%);\n",
            "            color: #ffffff;\n",
            "            margin: 0;\n",
            "            padding: 0;\n",
            "            display: flex;\n",
            "            justify-content: center;\n",
            "            align-items: center;\n",
            "            min-height: 100vh;\n",
            "        }\n",
            "        .container {\n",
            "            background-color: rgba(255, 255, 255, 0.1);\n",
            "            backdrop-filter: blur(10px);\n",
            "            border-radius: 20px;\n",
            "            padding: 3rem;\n",
            "            box-shadow: 0 8px 32px rgba(0, 0, 0, 0.37);\n",
            "            max-width: 600px;\n",
            "            width: 100%;\n",
            "        }\n",
            "        h1 {\n",
            "            text-align: center;\n",
            "            margin-bottom: 2rem;\n",
            "            color: #ff0000;\n",
            "            font-size: 2.5rem;\n",
            "            text-shadow: 2px 2px 4px rgba(0,0,0,0.1);\n",
            "        }\n",
            "        form {\n",
            "            display: flex;\n",
            "            flex-direction: column;\n",
            "        }\n",
            "        label {\n",
            "            margin-bottom: 0.5rem;\n",
            "            font-weight: 600;\n",
            "            color: #f0f0f0;\n",
            "        }\n",
            "        input {\n",
            "            padding: 1rem;\n",
            "            margin-bottom: 1.5rem;\n",
            "            border: none;\n",
            "            border-radius: 10px;\n",
            "            background-color: rgba(255, 255, 255, 0.2);\n",
            "            color: #ffffff;\n",
            "            font-size: 1rem;\n",
            "            transition: all 0.3s ease;\n",
            "        }\n",
            "        input:focus {\n",
            "            outline: none;\n",
            "            box-shadow: 0 0 0 2px #ff0000;\n",
            "        }\n",
            "        input::placeholder {\n",
            "            color: rgba(255, 255, 255, 0.7);\n",
            "        }\n",
            "        button {\n",
            "            padding: 1rem;\n",
            "            background-color: #ff0000;\n",
            "            color: white;\n",
            "            border: none;\n",
            "            border-radius: 10px;\n",
            "            cursor: pointer;\n",
            "            font-size: 1.1rem;\n",
            "            font-weight: 600;\n",
            "            transition: all 0.3s ease;\n",
            "            text-transform: uppercase;\n",
            "            letter-spacing: 1px;\n",
            "        }\n",
            "        button:hover {\n",
            "            background-color: #cc0000;\n",
            "            transform: translateY(-2px);\n",
            "            box-shadow: 0 4px 8px rgba(0,0,0,0.2);\n",
            "        }\n",
            "        #result {\n",
            "            margin-top: 2rem;\n",
            "            background-color: rgba(255, 255, 255, 0.1);\n",
            "            padding: 1.5rem;\n",
            "            border-radius: 10px;\n",
            "            font-size: 0.9rem;\n",
            "            line-height: 1.6;\n",
            "        }\n",
            "        #result h2 {\n",
            "            color: #ff0000;\n",
            "            margin-bottom: 1rem;\n",
            "        }\n",
            "        #result p {\n",
            "            margin-bottom: 0.5rem;\n",
            "        }\n",
            "        iframe {\n",
            "            border-radius: 10px;\n",
            "            margin-top: 1rem;\n",
            "        }\n",
            "    </style>\n",
            "</head>\n",
            "<body>\n",
            "    <div class=\"container\">\n",
            "        <h1>Traffic Route Optimizer 🚗</h1>\n",
            "        <form id=\"route-form\">\n",
            "            <label for=\"start\">From:</label>\n",
            "            <input type=\"text\" id=\"start\" name=\"start\" required placeholder=\"Enter starting location\">\n",
            "\n",
            "            <label for=\"end\">Destination:</label>\n",
            "            <input type=\"text\" id=\"end\" name=\"end\" required placeholder=\"Enter destination\">\n",
            "\n",
            "            <button type=\"submit\">Optimize Route</button>\n",
            "        </form>\n",
            "        <div id=\"result\"></div>\n",
            "    </div>\n",
            "    <script>\n",
            "    document.getElementById('route-form').addEventListener('submit', function(e) {\n",
            "    e.preventDefault();\n",
            "    const start = document.getElementById('start').value;\n",
            "    const end = document.getElementById('end').value;\n",
            "\n",
            "    fetch('/predict', {\n",
            "        method: 'POST',\n",
            "        headers: {\n",
            "            'Content-Type': 'application/json',\n",
            "        },\n",
            "        body: JSON.stringify({ start, end }),\n",
            "    })\n",
            "    .then(response => {\n",
            "        if (!response.ok) {\n",
            "            throw new Error(`HTTP error! status: ${response.status}`);\n",
            "        }\n",
            "        return response.json();\n",
            "    })\n",
            "    .then(data => {\n",
            "        const resultDiv = document.getElementById('result');\n",
            "        if (data.error) {\n",
            "            resultDiv.innerHTML = `<p>Error: ${data.error}</p>`;\n",
            "        } else {\n",
            "            resultDiv.innerHTML = `\n",
            "                <h2>Results 🎉</h2>\n",
            "                <p><strong>From:</strong> ${data.start.place}</p>\n",
            "                <p><span style=\"color: #ff0000;\">Speed:</span> ${data.start.speed.toFixed(2)} km/h</p>\n",
            "                <p><span style=\"color: #ff0000;\">Congestion:</span> ${data.start.congestion} 🚦</p>\n",
            "                <p><strong>Destination:</strong> ${data.end.place}</p>\n",
            "                <p><span style=\"color: #ff0000;\">Speed:</span> ${data.end.speed.toFixed(2)} km/h</p>\n",
            "                <p><span style=\"color: #ff0000;\">Congestion:</span> ${data.end.congestion} 🚦</p>\n",
            "                <p><strong>Estimated travel time:</strong> ${(data.travel_time).toFixed(2)} hours ⏱️</p>\n",
            "                <p><strong>Distance:</strong> ${data.distance.toFixed(2)} km 🛣️</p>\n",
            "                ${data.map_file ? `<iframe src=\"/map/${data.map_file}\" width=\"100%\" height=\"300\" frameborder=\"0\"></iframe>` : ''}\n",
            "            `;\n",
            "        }\n",
            "    })\n",
            "    .catch((error) => {\n",
            "        console.error('Error:', error);\n",
            "        document.getElementById('result').innerHTML = `<p>Error: ${error.message}</p>`;\n",
            "    });\n",
            "});\n",
            "</script>\n",
            "</body>\n",
            "</html>\n",
            "\n",
            "\n"
          ]
        }
      ],
      "source": [
        "!cat templates/index.html"
      ]
    },
    {
      "cell_type": "markdown",
      "metadata": {
        "id": "uTHWXETctk-G"
      },
      "source": [
        "This code works as well"
      ]
    },
    {
      "cell_type": "markdown",
      "metadata": {
        "id": "rwIzx12_yDJv"
      },
      "source": [
        "THE BEST CODE TILL NOW"
      ]
    },
    {
      "cell_type": "code",
      "execution_count": 63,
      "metadata": {
        "colab": {
          "base_uri": "https://localhost:8080/"
        },
        "id": "MOl_80tJi1sE",
        "outputId": "b6886a2b-8803-4adf-d871-94939e87a448"
      },
      "outputs": [
        {
          "output_type": "stream",
          "name": "stdout",
          "text": [
            "Public URL: https://f85e-35-229-181-63.ngrok-free.app\n",
            " * Serving Flask app '__main__'\n",
            " * Debug mode: off\n"
          ]
        },
        {
          "output_type": "stream",
          "name": "stderr",
          "text": [
            "INFO:werkzeug:\u001b[31m\u001b[1mWARNING: This is a development server. Do not use it in a production deployment. Use a production WSGI server instead.\u001b[0m\n",
            " * Running on http://127.0.0.1:8000\n",
            "INFO:werkzeug:\u001b[33mPress CTRL+C to quit\u001b[0m\n",
            "INFO:werkzeug:127.0.0.1 - - [03/Sep/2024 19:56:15] \"GET / HTTP/1.1\" 200 -\n",
            "INFO:werkzeug:127.0.0.1 - - [03/Sep/2024 19:56:16] \"\u001b[33mGET /favicon.ico HTTP/1.1\u001b[0m\" 404 -\n",
            "INFO:__main__:Received data: {'start': 'Dayton, Ohio', 'end': 'Downtown, Cincinnati'}\n",
            "INFO:__main__:Features being used for prediction: Index(['hour', 'day_of_week', 'is_weekend', 'is_rush_hour', 'temperature',\n",
            "       'humidity', 'speed_ratio'],\n",
            "      dtype='object')\n",
            "INFO:__main__:Features being used for prediction: Index(['hour', 'day_of_week', 'is_weekend', 'is_rush_hour', 'temperature',\n",
            "       'humidity', 'speed_ratio'],\n",
            "      dtype='object')\n",
            "/usr/local/lib/python3.10/dist-packages/osmnx/graph.py:191: FutureWarning: The expected order of coordinates in `bbox` will change in the v2.0.0 release to `(left, bottom, right, top)`.\n",
            "  G = graph_from_bbox(\n",
            "INFO:__main__:Optimizing route\n",
            "INFO:__main__:Returning result: {'start': {'place': 'Dayton, Ohio', 'coordinates': [39.7589478, -84.1916069], 'speed': 19.78, 'congestion': 'Light'}, 'end': {'place': 'Downtown, Cincinnati', 'coordinates': [39.101681150000005, -84.50808279152703], 'speed': 19.15, 'congestion': 'Moderate'}, 'path': [198935651, 198965831, 198965836, 198925361, 198925366, 2059503334, 198925371, 199080305, 198869094, 198831005, 401880414, 199002440, 198878603, 198878604, 198844905, 401880795, 198996103, 199135327, 198878630, 198878633, 198850444, 198850448, 198878635, 198878637, 198878639, 198878643, 198878647, 6809926537, 198878654, 5675545287, 198852012, 199004148, 199004156, 199012877, 199004076, 199004082, 199004084, 198919777, 199004098, 199004101, 199004103, 199004105, 199004107, 199004115, 199004119, 11357364527, 199004127, 11357364526, 199081958, 199132474, 198902279, 198981135, 11954818759, 1309358983, 310453229, 198861878, 199075910, 199051559, 198879107, 199066133, 198955455, 198903098, 1127509628, 198867722, 198867721, 198867718, 198867716, 198867712, 198899524, 199033919, 199033922, 199033925, 199068045, 198914618, 198887172, 198833282, 198842428, 198914581, 199015168, 198936297, 199024708, 198852727, 199098787], 'travel_time': 0.3041298608092346, 'distance': 16.65126699999999, 'map_file': 'temp_map.html'}\n",
            "INFO:werkzeug:127.0.0.1 - - [03/Sep/2024 19:56:47] \"POST /predict HTTP/1.1\" 200 -\n",
            "INFO:werkzeug:127.0.0.1 - - [03/Sep/2024 19:56:47] \"GET /map/temp_map.html HTTP/1.1\" 200 -\n",
            "INFO:__main__:Received data: {'start': 'Dayton, Ohio', 'end': 'Cleveland, Ohio'}\n",
            "INFO:__main__:Features being used for prediction: Index(['hour', 'day_of_week', 'is_weekend', 'is_rush_hour', 'temperature',\n",
            "       'humidity', 'speed_ratio'],\n",
            "      dtype='object')\n",
            "INFO:__main__:Features being used for prediction: Index(['hour', 'day_of_week', 'is_weekend', 'is_rush_hour', 'temperature',\n",
            "       'humidity', 'speed_ratio'],\n",
            "      dtype='object')\n",
            "/usr/local/lib/python3.10/dist-packages/osmnx/graph.py:191: FutureWarning: The expected order of coordinates in `bbox` will change in the v2.0.0 release to `(left, bottom, right, top)`.\n",
            "  G = graph_from_bbox(\n",
            "INFO:__main__:Received data: {'start': 'Dayton, Ohio', 'end': 'Cleveland, Ohio'}\n",
            "INFO:__main__:Features being used for prediction: Index(['hour', 'day_of_week', 'is_weekend', 'is_rush_hour', 'temperature',\n",
            "       'humidity', 'speed_ratio'],\n",
            "      dtype='object')\n",
            "INFO:__main__:Features being used for prediction: Index(['hour', 'day_of_week', 'is_weekend', 'is_rush_hour', 'temperature',\n",
            "       'humidity', 'speed_ratio'],\n",
            "      dtype='object')\n",
            "/usr/local/lib/python3.10/dist-packages/osmnx/graph.py:191: FutureWarning: The expected order of coordinates in `bbox` will change in the v2.0.0 release to `(left, bottom, right, top)`.\n",
            "  G = graph_from_bbox(\n",
            "INFO:__main__:Optimizing route\n",
            "INFO:__main__:Returning result: {'start': {'place': 'Dayton, Ohio', 'coordinates': [39.7589478, -84.1916069], 'speed': 19.78, 'congestion': 'Light'}, 'end': {'place': 'Cleveland, Ohio', 'coordinates': [41.4996574, -81.6936772], 'speed': 19.15, 'congestion': 'Moderate'}, 'path': [198935651, 198977571, 199090830, 199090833, 198973240, 198902551, 198902568, 198928871, 198989248, 199090837, 199090842, 452958115, 198999666, 198999673, 198999675, 199095591, 199122162, 199122165, 199074843, 2024361055, 2024360406, 199106239, 199013051, 410073676, 198845248, 410074402, 1965651487, 1965651493, 4241158907, 198896050, 198896054, 198896057, 198896059, 198896062, 198896068, 198896088, 198896098, 199078158, 199078166, 198977801, 198977809, 198977819, 198899092, 198899097, 198973184, 198973192, 199007737, 199007748, 199003622, 198951639, 199007760, 198883366, 198883368, 199007774, 198948853, 198989962, 198989954, 199057726, 198971829, 199001370, 199079253, 198836270, 198869923, 198821579, 198859108, 198880104, 198880123, 199078910, 199048388, 765517009, 198986600, 765516145, 199048431, 198945544, 198933184, 198968417, 198891747, 198891751, 198891760, 199048462, 198928145, 198865304, 199048470, 198917607, 2021102991, 2021102992, 199048494, 2021098124, 198833878, 198833882], 'travel_time': 0.3732061116347623, 'distance': 17.084660000000003, 'map_file': 'temp_map.html'}\n",
            "INFO:werkzeug:127.0.0.1 - - [03/Sep/2024 19:58:23] \"POST /predict HTTP/1.1\" 200 -\n",
            "INFO:werkzeug:127.0.0.1 - - [03/Sep/2024 19:58:24] \"GET /map/temp_map.html HTTP/1.1\" 200 -\n",
            "INFO:__main__:Optimizing route\n",
            "INFO:__main__:Returning result: {'start': {'place': 'Dayton, Ohio', 'coordinates': [39.7589478, -84.1916069], 'speed': 19.78, 'congestion': 'Light'}, 'end': {'place': 'Cleveland, Ohio', 'coordinates': [41.4996574, -81.6936772], 'speed': 19.15, 'congestion': 'Moderate'}, 'path': [198935651, 199098404, 199090830, 198999742, 198999744, 1460473321, 198902560, 198928872, 198999757, 7477950520, 198999666, 199115003, 199048676, 199095591, 199122162, 199122165, 199074843, 199018135, 198980870, 198895995, 198863695, 198895999, 333355112, 582770736, 4931682226, 198896007, 198896009, 198896011, 198896017, 900276630, 2024382291, 198896029, 198896031, 199079190, 199079194, 4241158913, 4241158915, 199079200, 198964477, 198976335, 198906514, 198906515, 199080184, 199079207, 198964123, 198824688, 198843136, 199079236, 199003661, 198962275, 198997419, 198883351, 198912414, 198912422, 199071678, 199071687, 199075091, 199079248, 198948846, 198989954, 199057726, 198971829, 199001370, 199079253, 198836270, 198869923, 198821579, 198859108, 198880104, 198880123, 199078910, 199048388, 765517009, 198986600, 765516145, 199048431, 198951012, 198891760, 199048462, 198928145, 198865304, 199048470, 198917607, 2021102991, 2021102992, 199048494, 2021098124, 198833878, 198833882], 'travel_time': 0.32574180989372603, 'distance': 16.194268, 'map_file': 'temp_map.html'}\n",
            "INFO:werkzeug:127.0.0.1 - - [03/Sep/2024 19:58:41] \"POST /predict HTTP/1.1\" 200 -\n",
            "INFO:werkzeug:127.0.0.1 - - [03/Sep/2024 19:58:42] \"GET /map/temp_map.html HTTP/1.1\" 200 -\n",
            "WARNING:pyngrok.process.ngrok:t=2024-09-03T20:01:42+0000 lvl=warn msg=\"Stopping forwarder\" name=http-8000-9b5380cd-c8fb-4975-a613-d2ac280013c0 acceptErr=\"failed to accept connection: Listener closed\"\n"
          ]
        }
      ],
      "source": [
        "if __name__ == '__main__':\n",
        "    try:\n",
        "        # Create 'templates' directory if it doesn't exist\n",
        "        os.makedirs('templates', exist_ok=True)\n",
        "\n",
        "        # Create index.html file\n",
        "        with open('templates/index.html', 'w') as f:\n",
        "            f.write(html_content)\n",
        "\n",
        "        ngrok_tunnel = ngrok.connect(8000)\n",
        "        print('Public URL:', ngrok_tunnel.public_url)\n",
        "        app.run(port=8000)\n",
        "    except Exception as e:\n",
        "        print(f\"An error occurred: {e}\")"
      ]
    },
    {
      "cell_type": "markdown",
      "source": [],
      "metadata": {
        "id": "1RtpytMnetAz"
      }
    },
    {
      "cell_type": "markdown",
      "source": [
        "I'm gonna test from here\n"
      ],
      "metadata": {
        "id": "iZ77w2B9etMb"
      }
    },
    {
      "cell_type": "code",
      "source": [],
      "metadata": {
        "id": "mJmOlmITewqo"
      },
      "execution_count": null,
      "outputs": []
    },
    {
      "cell_type": "code",
      "source": [],
      "metadata": {
        "id": "l77kDYtsew3_"
      },
      "execution_count": null,
      "outputs": []
    }
  ],
  "metadata": {
    "colab": {
      "provenance": [],
      "authorship_tag": "ABX9TyNZ93nNgLr+x9G+9V1tLiLF",
      "include_colab_link": true
    },
    "kernelspec": {
      "display_name": "Python 3",
      "name": "python3"
    },
    "language_info": {
      "name": "python"
    }
  },
  "nbformat": 4,
  "nbformat_minor": 0
}